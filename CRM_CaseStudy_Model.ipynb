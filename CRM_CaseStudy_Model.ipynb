{
 "cells": [
  {
   "cell_type": "code",
   "execution_count": 1,
   "metadata": {},
   "outputs": [],
   "source": [
    "import numpy as np\n",
    "import pandas as pd"
   ]
  },
  {
   "cell_type": "code",
   "execution_count": 2,
   "metadata": {
    "scrolled": true
   },
   "outputs": [
    {
     "name": "stderr",
     "output_type": "stream",
     "text": [
      "/home/nbuser/anaconda3_501/lib/python3.6/site-packages/IPython/core/interactiveshell.py:3020: DtypeWarning: Columns (10,16) have mixed types. Specify dtype option on import or set low_memory=False.\n",
      "  interactivity=interactivity, compiler=compiler, result=result)\n"
     ]
    }
   ],
   "source": [
    "loan_train = pd.read_csv(\"train.csv\")"
   ]
  },
  {
   "cell_type": "code",
   "execution_count": 3,
   "metadata": {},
   "outputs": [],
   "source": [
    "loan_test = pd.read_csv(\"test.csv\")"
   ]
  },
  {
   "cell_type": "code",
   "execution_count": 4,
   "metadata": {},
   "outputs": [
    {
     "data": {
      "text/html": [
       "<div>\n",
       "<style scoped>\n",
       "    .dataframe tbody tr th:only-of-type {\n",
       "        vertical-align: middle;\n",
       "    }\n",
       "\n",
       "    .dataframe tbody tr th {\n",
       "        vertical-align: top;\n",
       "    }\n",
       "\n",
       "    .dataframe thead th {\n",
       "        text-align: right;\n",
       "    }\n",
       "</style>\n",
       "<table border=\"1\" class=\"dataframe\">\n",
       "  <thead>\n",
       "    <tr style=\"text-align: right;\">\n",
       "      <th></th>\n",
       "      <th>Loan ID</th>\n",
       "      <th>Customer ID</th>\n",
       "      <th>Loan Status</th>\n",
       "      <th>Current Loan Amount</th>\n",
       "      <th>Term</th>\n",
       "      <th>Credit Score</th>\n",
       "      <th>Years in current job</th>\n",
       "      <th>Home Ownership</th>\n",
       "      <th>Annual Income</th>\n",
       "      <th>Purpose</th>\n",
       "      <th>Monthly Debt</th>\n",
       "      <th>Years of Credit History</th>\n",
       "      <th>Months since last delinquent</th>\n",
       "      <th>Number of Open Accounts</th>\n",
       "      <th>Number of Credit Problems</th>\n",
       "      <th>Current Credit Balance</th>\n",
       "      <th>Maximum Open Credit</th>\n",
       "      <th>Bankruptcies</th>\n",
       "      <th>Tax Liens</th>\n",
       "    </tr>\n",
       "  </thead>\n",
       "  <tbody>\n",
       "    <tr>\n",
       "      <th>0</th>\n",
       "      <td>a3fdf1db-e991-4293-976c-7d35564c0aec</td>\n",
       "      <td>74561f96-304a-492d-bc19-a6107d2afee9</td>\n",
       "      <td>Charged Off</td>\n",
       "      <td>10120</td>\n",
       "      <td>Long Term</td>\n",
       "      <td>6920.0</td>\n",
       "      <td>10+ years</td>\n",
       "      <td>Rent</td>\n",
       "      <td>47564.0</td>\n",
       "      <td>Debt Consolidation</td>\n",
       "      <td>990.92</td>\n",
       "      <td>21.8</td>\n",
       "      <td>28.0</td>\n",
       "      <td>10</td>\n",
       "      <td>0</td>\n",
       "      <td>3840</td>\n",
       "      <td>7694</td>\n",
       "      <td>0.0</td>\n",
       "      <td>0.0</td>\n",
       "    </tr>\n",
       "    <tr>\n",
       "      <th>1</th>\n",
       "      <td>c3f8006d-d1ef-4a94-ba55-c48034974205</td>\n",
       "      <td>b8e70101-dd49-4a39-84a6-5f92b390684c</td>\n",
       "      <td>Fully Paid</td>\n",
       "      <td>7144</td>\n",
       "      <td>Short Term</td>\n",
       "      <td>721.0</td>\n",
       "      <td>2 years</td>\n",
       "      <td>Home Mortgage</td>\n",
       "      <td>40820.0</td>\n",
       "      <td>Debt Consolidation</td>\n",
       "      <td>574.88</td>\n",
       "      <td>10.7</td>\n",
       "      <td>NaN</td>\n",
       "      <td>6</td>\n",
       "      <td>0</td>\n",
       "      <td>13269</td>\n",
       "      <td>22565</td>\n",
       "      <td>0.0</td>\n",
       "      <td>0.0</td>\n",
       "    </tr>\n",
       "    <tr>\n",
       "      <th>2</th>\n",
       "      <td>076b722f-3658-47a8-a7f1-5179a9b45ade</td>\n",
       "      <td>0a28e046-9239-4ee0-8770-68a2f72bf2a0</td>\n",
       "      <td>Fully Paid</td>\n",
       "      <td>10100</td>\n",
       "      <td>Short Term</td>\n",
       "      <td>726.0</td>\n",
       "      <td>7 years</td>\n",
       "      <td>Own Home</td>\n",
       "      <td>54540.0</td>\n",
       "      <td>Debt Consolidation</td>\n",
       "      <td>577.22</td>\n",
       "      <td>37.3</td>\n",
       "      <td>NaN</td>\n",
       "      <td>6</td>\n",
       "      <td>0</td>\n",
       "      <td>5373</td>\n",
       "      <td>8667</td>\n",
       "      <td>0.0</td>\n",
       "      <td>0.0</td>\n",
       "    </tr>\n",
       "    <tr>\n",
       "      <th>3</th>\n",
       "      <td>c2d68e37-572b-4a3b-afaa-b55a679c7d67</td>\n",
       "      <td>dc755ef2-1773-4d3b-8b6b-668bbae290c5</td>\n",
       "      <td>Fully Paid</td>\n",
       "      <td>30362</td>\n",
       "      <td>Long Term</td>\n",
       "      <td>708.0</td>\n",
       "      <td>1 year</td>\n",
       "      <td>Home Mortgage</td>\n",
       "      <td>63450.0</td>\n",
       "      <td>Debt Consolidation</td>\n",
       "      <td>1110.37</td>\n",
       "      <td>12.5</td>\n",
       "      <td>52.0</td>\n",
       "      <td>14</td>\n",
       "      <td>0</td>\n",
       "      <td>38329</td>\n",
       "      <td>57207</td>\n",
       "      <td>0.0</td>\n",
       "      <td>0.0</td>\n",
       "    </tr>\n",
       "    <tr>\n",
       "      <th>4</th>\n",
       "      <td>c02558d1-58cb-4b36-9569-ae55baeb328a</td>\n",
       "      <td>f0804ea2-249b-4e6c-ab2a-1554a7ff6a5b</td>\n",
       "      <td>Fully Paid</td>\n",
       "      <td>3571</td>\n",
       "      <td>Short Term</td>\n",
       "      <td>700.0</td>\n",
       "      <td>5 years</td>\n",
       "      <td>Home Mortgage</td>\n",
       "      <td>41370.0</td>\n",
       "      <td>Debt Consolidation</td>\n",
       "      <td>875.67</td>\n",
       "      <td>13.1</td>\n",
       "      <td>6.0</td>\n",
       "      <td>4</td>\n",
       "      <td>0</td>\n",
       "      <td>384</td>\n",
       "      <td>985</td>\n",
       "      <td>0.0</td>\n",
       "      <td>0.0</td>\n",
       "    </tr>\n",
       "  </tbody>\n",
       "</table>\n",
       "</div>"
      ],
      "text/plain": [
       "                                Loan ID                           Customer ID  \\\n",
       "0  a3fdf1db-e991-4293-976c-7d35564c0aec  74561f96-304a-492d-bc19-a6107d2afee9   \n",
       "1  c3f8006d-d1ef-4a94-ba55-c48034974205  b8e70101-dd49-4a39-84a6-5f92b390684c   \n",
       "2  076b722f-3658-47a8-a7f1-5179a9b45ade  0a28e046-9239-4ee0-8770-68a2f72bf2a0   \n",
       "3  c2d68e37-572b-4a3b-afaa-b55a679c7d67  dc755ef2-1773-4d3b-8b6b-668bbae290c5   \n",
       "4  c02558d1-58cb-4b36-9569-ae55baeb328a  f0804ea2-249b-4e6c-ab2a-1554a7ff6a5b   \n",
       "\n",
       "   Loan Status  Current Loan Amount        Term  Credit Score  \\\n",
       "0  Charged Off                10120   Long Term        6920.0   \n",
       "1   Fully Paid                 7144  Short Term         721.0   \n",
       "2   Fully Paid                10100  Short Term         726.0   \n",
       "3   Fully Paid                30362   Long Term         708.0   \n",
       "4   Fully Paid                 3571  Short Term         700.0   \n",
       "\n",
       "  Years in current job Home Ownership  Annual Income             Purpose  \\\n",
       "0            10+ years           Rent        47564.0  Debt Consolidation   \n",
       "1              2 years  Home Mortgage        40820.0  Debt Consolidation   \n",
       "2              7 years       Own Home        54540.0  Debt Consolidation   \n",
       "3               1 year  Home Mortgage        63450.0  Debt Consolidation   \n",
       "4              5 years  Home Mortgage        41370.0  Debt Consolidation   \n",
       "\n",
       "  Monthly Debt  Years of Credit History  Months since last delinquent  \\\n",
       "0       990.92                     21.8                          28.0   \n",
       "1       574.88                     10.7                           NaN   \n",
       "2       577.22                     37.3                           NaN   \n",
       "3      1110.37                     12.5                          52.0   \n",
       "4       875.67                     13.1                           6.0   \n",
       "\n",
       "   Number of Open Accounts  Number of Credit Problems  Current Credit Balance  \\\n",
       "0                       10                          0                    3840   \n",
       "1                        6                          0                   13269   \n",
       "2                        6                          0                    5373   \n",
       "3                       14                          0                   38329   \n",
       "4                        4                          0                     384   \n",
       "\n",
       "  Maximum Open Credit  Bankruptcies  Tax Liens  \n",
       "0                7694           0.0        0.0  \n",
       "1               22565           0.0        0.0  \n",
       "2                8667           0.0        0.0  \n",
       "3               57207           0.0        0.0  \n",
       "4                 985           0.0        0.0  "
      ]
     },
     "execution_count": 4,
     "metadata": {},
     "output_type": "execute_result"
    }
   ],
   "source": [
    "loan_train.head()"
   ]
  },
  {
   "cell_type": "code",
   "execution_count": 10,
   "metadata": {
    "scrolled": true
   },
   "outputs": [
    {
     "data": {
      "text/plain": [
       "Loan ID                         0\n",
       "Customer ID                     0\n",
       "Loan Status                     0\n",
       "Current Loan Amount             0\n",
       "Term                            0\n",
       "Credit Score                    0\n",
       "Years in current job            0\n",
       "Home Ownership                  0\n",
       "Annual Income                   0\n",
       "Purpose                         0\n",
       "Monthly Debt                    0\n",
       "Years of Credit History         0\n",
       "Months since last delinquent    0\n",
       "Number of Open Accounts         0\n",
       "Number of Credit Problems       0\n",
       "Current Credit Balance          0\n",
       "Maximum Open Credit             0\n",
       "Bankruptcies                    0\n",
       "Tax Liens                       0\n",
       "dtype: int64"
      ]
     },
     "execution_count": 10,
     "metadata": {},
     "output_type": "execute_result"
    }
   ],
   "source": [
    "loan_train[loan_train.duplicated() == True].count()"
   ]
  },
  {
   "cell_type": "code",
   "execution_count": 9,
   "metadata": {},
   "outputs": [],
   "source": [
    "loan_train.drop_duplicates(subset=None, keep='first', inplace=True)"
   ]
  },
  {
   "cell_type": "code",
   "execution_count": 12,
   "metadata": {},
   "outputs": [
    {
     "data": {
      "text/plain": [
       "Loan ID                             0\n",
       "Customer ID                         0\n",
       "Loan Status                         0\n",
       "Current Loan Amount                 0\n",
       "Term                                0\n",
       "Credit Score                    14915\n",
       "Years in current job             3248\n",
       "Home Ownership                      0\n",
       "Annual Income                   14915\n",
       "Purpose                             0\n",
       "Monthly Debt                        0\n",
       "Years of Credit History             0\n",
       "Months since last delinquent    40881\n",
       "Number of Open Accounts             0\n",
       "Number of Credit Problems           0\n",
       "Current Credit Balance              0\n",
       "Maximum Open Credit                 0\n",
       "Bankruptcies                      147\n",
       "Tax Liens                           5\n",
       "dtype: int64"
      ]
     },
     "execution_count": 12,
     "metadata": {},
     "output_type": "execute_result"
    }
   ],
   "source": [
    "loan_train.isnull().sum()"
   ]
  },
  {
   "cell_type": "code",
   "execution_count": 13,
   "metadata": {},
   "outputs": [
    {
     "data": {
      "text/plain": [
       "0.0    68092\n",
       "1.0     8024\n",
       "2.0      331\n",
       "3.0       71\n",
       "4.0       16\n",
       "5.0        5\n",
       "6.0        2\n",
       "7.0        1\n",
       "Name: Bankruptcies, dtype: int64"
      ]
     },
     "execution_count": 13,
     "metadata": {},
     "output_type": "execute_result"
    }
   ],
   "source": [
    "loan_train.Bankruptcies.value_counts()"
   ]
  },
  {
   "cell_type": "code",
   "execution_count": 14,
   "metadata": {},
   "outputs": [
    {
     "data": {
      "text/html": [
       "<div>\n",
       "<style scoped>\n",
       "    .dataframe tbody tr th:only-of-type {\n",
       "        vertical-align: middle;\n",
       "    }\n",
       "\n",
       "    .dataframe tbody tr th {\n",
       "        vertical-align: top;\n",
       "    }\n",
       "\n",
       "    .dataframe thead th {\n",
       "        text-align: right;\n",
       "    }\n",
       "</style>\n",
       "<table border=\"1\" class=\"dataframe\">\n",
       "  <thead>\n",
       "    <tr style=\"text-align: right;\">\n",
       "      <th></th>\n",
       "      <th>Current Loan Amount</th>\n",
       "      <th>Credit Score</th>\n",
       "      <th>Annual Income</th>\n",
       "      <th>Years of Credit History</th>\n",
       "      <th>Months since last delinquent</th>\n",
       "      <th>Number of Open Accounts</th>\n",
       "      <th>Number of Credit Problems</th>\n",
       "      <th>Current Credit Balance</th>\n",
       "      <th>Bankruptcies</th>\n",
       "      <th>Tax Liens</th>\n",
       "    </tr>\n",
       "  </thead>\n",
       "  <tbody>\n",
       "    <tr>\n",
       "      <th>count</th>\n",
       "      <td>7.668900e+04</td>\n",
       "      <td>61774.000000</td>\n",
       "      <td>6.177400e+04</td>\n",
       "      <td>76689.000000</td>\n",
       "      <td>35808.000000</td>\n",
       "      <td>76689.000000</td>\n",
       "      <td>76689.000000</td>\n",
       "      <td>7.668900e+04</td>\n",
       "      <td>76542.000000</td>\n",
       "      <td>76684.000000</td>\n",
       "    </tr>\n",
       "    <tr>\n",
       "      <th>mean</th>\n",
       "      <td>1.170794e+07</td>\n",
       "      <td>1077.345275</td>\n",
       "      <td>7.280992e+04</td>\n",
       "      <td>18.225744</td>\n",
       "      <td>34.839226</td>\n",
       "      <td>11.140581</td>\n",
       "      <td>0.168160</td>\n",
       "      <td>1.562157e+04</td>\n",
       "      <td>0.117674</td>\n",
       "      <td>0.029511</td>\n",
       "    </tr>\n",
       "    <tr>\n",
       "      <th>std</th>\n",
       "      <td>3.213202e+07</td>\n",
       "      <td>1477.272623</td>\n",
       "      <td>5.873721e+04</td>\n",
       "      <td>7.028144</td>\n",
       "      <td>21.892791</td>\n",
       "      <td>5.013048</td>\n",
       "      <td>0.481878</td>\n",
       "      <td>2.041168e+04</td>\n",
       "      <td>0.350985</td>\n",
       "      <td>0.255151</td>\n",
       "    </tr>\n",
       "    <tr>\n",
       "      <th>min</th>\n",
       "      <td>8.850000e+02</td>\n",
       "      <td>585.000000</td>\n",
       "      <td>4.268000e+03</td>\n",
       "      <td>3.600000</td>\n",
       "      <td>0.000000</td>\n",
       "      <td>0.000000</td>\n",
       "      <td>0.000000</td>\n",
       "      <td>0.000000e+00</td>\n",
       "      <td>0.000000</td>\n",
       "      <td>0.000000</td>\n",
       "    </tr>\n",
       "    <tr>\n",
       "      <th>25%</th>\n",
       "      <td>8.444000e+03</td>\n",
       "      <td>705.000000</td>\n",
       "      <td>4.493700e+04</td>\n",
       "      <td>13.500000</td>\n",
       "      <td>16.000000</td>\n",
       "      <td>8.000000</td>\n",
       "      <td>0.000000</td>\n",
       "      <td>5.950000e+03</td>\n",
       "      <td>0.000000</td>\n",
       "      <td>0.000000</td>\n",
       "    </tr>\n",
       "    <tr>\n",
       "      <th>50%</th>\n",
       "      <td>1.447900e+04</td>\n",
       "      <td>724.000000</td>\n",
       "      <td>6.223150e+04</td>\n",
       "      <td>17.000000</td>\n",
       "      <td>32.000000</td>\n",
       "      <td>10.000000</td>\n",
       "      <td>0.000000</td>\n",
       "      <td>1.109600e+04</td>\n",
       "      <td>0.000000</td>\n",
       "      <td>0.000000</td>\n",
       "    </tr>\n",
       "    <tr>\n",
       "      <th>75%</th>\n",
       "      <td>2.402900e+04</td>\n",
       "      <td>741.000000</td>\n",
       "      <td>8.743350e+04</td>\n",
       "      <td>21.700000</td>\n",
       "      <td>51.000000</td>\n",
       "      <td>14.000000</td>\n",
       "      <td>0.000000</td>\n",
       "      <td>1.953100e+04</td>\n",
       "      <td>0.000000</td>\n",
       "      <td>0.000000</td>\n",
       "    </tr>\n",
       "    <tr>\n",
       "      <th>max</th>\n",
       "      <td>1.000000e+08</td>\n",
       "      <td>7510.000000</td>\n",
       "      <td>8.713547e+06</td>\n",
       "      <td>62.500000</td>\n",
       "      <td>176.000000</td>\n",
       "      <td>76.000000</td>\n",
       "      <td>12.000000</td>\n",
       "      <td>1.730472e+06</td>\n",
       "      <td>7.000000</td>\n",
       "      <td>11.000000</td>\n",
       "    </tr>\n",
       "  </tbody>\n",
       "</table>\n",
       "</div>"
      ],
      "text/plain": [
       "       Current Loan Amount  Credit Score  Annual Income  \\\n",
       "count         7.668900e+04  61774.000000   6.177400e+04   \n",
       "mean          1.170794e+07   1077.345275   7.280992e+04   \n",
       "std           3.213202e+07   1477.272623   5.873721e+04   \n",
       "min           8.850000e+02    585.000000   4.268000e+03   \n",
       "25%           8.444000e+03    705.000000   4.493700e+04   \n",
       "50%           1.447900e+04    724.000000   6.223150e+04   \n",
       "75%           2.402900e+04    741.000000   8.743350e+04   \n",
       "max           1.000000e+08   7510.000000   8.713547e+06   \n",
       "\n",
       "       Years of Credit History  Months since last delinquent  \\\n",
       "count             76689.000000                  35808.000000   \n",
       "mean                 18.225744                     34.839226   \n",
       "std                   7.028144                     21.892791   \n",
       "min                   3.600000                      0.000000   \n",
       "25%                  13.500000                     16.000000   \n",
       "50%                  17.000000                     32.000000   \n",
       "75%                  21.700000                     51.000000   \n",
       "max                  62.500000                    176.000000   \n",
       "\n",
       "       Number of Open Accounts  Number of Credit Problems  \\\n",
       "count             76689.000000               76689.000000   \n",
       "mean                 11.140581                   0.168160   \n",
       "std                   5.013048                   0.481878   \n",
       "min                   0.000000                   0.000000   \n",
       "25%                   8.000000                   0.000000   \n",
       "50%                  10.000000                   0.000000   \n",
       "75%                  14.000000                   0.000000   \n",
       "max                  76.000000                  12.000000   \n",
       "\n",
       "       Current Credit Balance  Bankruptcies     Tax Liens  \n",
       "count            7.668900e+04  76542.000000  76684.000000  \n",
       "mean             1.562157e+04      0.117674      0.029511  \n",
       "std              2.041168e+04      0.350985      0.255151  \n",
       "min              0.000000e+00      0.000000      0.000000  \n",
       "25%              5.950000e+03      0.000000      0.000000  \n",
       "50%              1.109600e+04      0.000000      0.000000  \n",
       "75%              1.953100e+04      0.000000      0.000000  \n",
       "max              1.730472e+06      7.000000     11.000000  "
      ]
     },
     "execution_count": 14,
     "metadata": {},
     "output_type": "execute_result"
    }
   ],
   "source": [
    "loan_train.describe()"
   ]
  },
  {
   "cell_type": "code",
   "execution_count": 15,
   "metadata": {},
   "outputs": [
    {
     "data": {
      "text/html": [
       "<div>\n",
       "<style scoped>\n",
       "    .dataframe tbody tr th:only-of-type {\n",
       "        vertical-align: middle;\n",
       "    }\n",
       "\n",
       "    .dataframe tbody tr th {\n",
       "        vertical-align: top;\n",
       "    }\n",
       "\n",
       "    .dataframe thead th {\n",
       "        text-align: right;\n",
       "    }\n",
       "</style>\n",
       "<table border=\"1\" class=\"dataframe\">\n",
       "  <thead>\n",
       "    <tr style=\"text-align: right;\">\n",
       "      <th></th>\n",
       "      <th>Current Loan Amount</th>\n",
       "      <th>Credit Score</th>\n",
       "      <th>Annual Income</th>\n",
       "      <th>Years of Credit History</th>\n",
       "      <th>Months since last delinquent</th>\n",
       "      <th>Number of Open Accounts</th>\n",
       "      <th>Number of Credit Problems</th>\n",
       "      <th>Current Credit Balance</th>\n",
       "      <th>Bankruptcies</th>\n",
       "      <th>Tax Liens</th>\n",
       "    </tr>\n",
       "  </thead>\n",
       "  <tbody>\n",
       "    <tr>\n",
       "      <th>Current Loan Amount</th>\n",
       "      <td>1.000000</td>\n",
       "      <td>-0.098106</td>\n",
       "      <td>0.010224</td>\n",
       "      <td>0.019818</td>\n",
       "      <td>0.005888</td>\n",
       "      <td>0.000517</td>\n",
       "      <td>-0.001889</td>\n",
       "      <td>0.001960</td>\n",
       "      <td>-0.000828</td>\n",
       "      <td>0.001014</td>\n",
       "    </tr>\n",
       "    <tr>\n",
       "      <th>Credit Score</th>\n",
       "      <td>-0.098106</td>\n",
       "      <td>1.000000</td>\n",
       "      <td>-0.017438</td>\n",
       "      <td>-0.008405</td>\n",
       "      <td>-0.000650</td>\n",
       "      <td>0.001703</td>\n",
       "      <td>0.001914</td>\n",
       "      <td>-0.000791</td>\n",
       "      <td>-0.003667</td>\n",
       "      <td>0.007123</td>\n",
       "    </tr>\n",
       "    <tr>\n",
       "      <th>Annual Income</th>\n",
       "      <td>0.010224</td>\n",
       "      <td>-0.017438</td>\n",
       "      <td>1.000000</td>\n",
       "      <td>0.151890</td>\n",
       "      <td>-0.082576</td>\n",
       "      <td>0.138175</td>\n",
       "      <td>-0.015846</td>\n",
       "      <td>0.293936</td>\n",
       "      <td>-0.045112</td>\n",
       "      <td>0.039929</td>\n",
       "    </tr>\n",
       "    <tr>\n",
       "      <th>Years of Credit History</th>\n",
       "      <td>0.019818</td>\n",
       "      <td>-0.008405</td>\n",
       "      <td>0.151890</td>\n",
       "      <td>1.000000</td>\n",
       "      <td>-0.041000</td>\n",
       "      <td>0.126962</td>\n",
       "      <td>0.060770</td>\n",
       "      <td>0.205743</td>\n",
       "      <td>0.064458</td>\n",
       "      <td>0.021057</td>\n",
       "    </tr>\n",
       "    <tr>\n",
       "      <th>Months since last delinquent</th>\n",
       "      <td>0.005888</td>\n",
       "      <td>-0.000650</td>\n",
       "      <td>-0.082576</td>\n",
       "      <td>-0.041000</td>\n",
       "      <td>1.000000</td>\n",
       "      <td>-0.034093</td>\n",
       "      <td>0.105348</td>\n",
       "      <td>-0.026929</td>\n",
       "      <td>0.126352</td>\n",
       "      <td>0.009806</td>\n",
       "    </tr>\n",
       "    <tr>\n",
       "      <th>Number of Open Accounts</th>\n",
       "      <td>0.000517</td>\n",
       "      <td>0.001703</td>\n",
       "      <td>0.138175</td>\n",
       "      <td>0.126962</td>\n",
       "      <td>-0.034093</td>\n",
       "      <td>1.000000</td>\n",
       "      <td>-0.013959</td>\n",
       "      <td>0.220552</td>\n",
       "      <td>-0.026015</td>\n",
       "      <td>0.008867</td>\n",
       "    </tr>\n",
       "    <tr>\n",
       "      <th>Number of Credit Problems</th>\n",
       "      <td>-0.001889</td>\n",
       "      <td>0.001914</td>\n",
       "      <td>-0.015846</td>\n",
       "      <td>0.060770</td>\n",
       "      <td>0.105348</td>\n",
       "      <td>-0.013959</td>\n",
       "      <td>1.000000</td>\n",
       "      <td>-0.110306</td>\n",
       "      <td>0.756511</td>\n",
       "      <td>0.579243</td>\n",
       "    </tr>\n",
       "    <tr>\n",
       "      <th>Current Credit Balance</th>\n",
       "      <td>0.001960</td>\n",
       "      <td>-0.000791</td>\n",
       "      <td>0.293936</td>\n",
       "      <td>0.205743</td>\n",
       "      <td>-0.026929</td>\n",
       "      <td>0.220552</td>\n",
       "      <td>-0.110306</td>\n",
       "      <td>1.000000</td>\n",
       "      <td>-0.121179</td>\n",
       "      <td>-0.014679</td>\n",
       "    </tr>\n",
       "    <tr>\n",
       "      <th>Bankruptcies</th>\n",
       "      <td>-0.000828</td>\n",
       "      <td>-0.003667</td>\n",
       "      <td>-0.045112</td>\n",
       "      <td>0.064458</td>\n",
       "      <td>0.126352</td>\n",
       "      <td>-0.026015</td>\n",
       "      <td>0.756511</td>\n",
       "      <td>-0.121179</td>\n",
       "      <td>1.000000</td>\n",
       "      <td>0.050242</td>\n",
       "    </tr>\n",
       "    <tr>\n",
       "      <th>Tax Liens</th>\n",
       "      <td>0.001014</td>\n",
       "      <td>0.007123</td>\n",
       "      <td>0.039929</td>\n",
       "      <td>0.021057</td>\n",
       "      <td>0.009806</td>\n",
       "      <td>0.008867</td>\n",
       "      <td>0.579243</td>\n",
       "      <td>-0.014679</td>\n",
       "      <td>0.050242</td>\n",
       "      <td>1.000000</td>\n",
       "    </tr>\n",
       "  </tbody>\n",
       "</table>\n",
       "</div>"
      ],
      "text/plain": [
       "                              Current Loan Amount  Credit Score  \\\n",
       "Current Loan Amount                      1.000000     -0.098106   \n",
       "Credit Score                            -0.098106      1.000000   \n",
       "Annual Income                            0.010224     -0.017438   \n",
       "Years of Credit History                  0.019818     -0.008405   \n",
       "Months since last delinquent             0.005888     -0.000650   \n",
       "Number of Open Accounts                  0.000517      0.001703   \n",
       "Number of Credit Problems               -0.001889      0.001914   \n",
       "Current Credit Balance                   0.001960     -0.000791   \n",
       "Bankruptcies                            -0.000828     -0.003667   \n",
       "Tax Liens                                0.001014      0.007123   \n",
       "\n",
       "                              Annual Income  Years of Credit History  \\\n",
       "Current Loan Amount                0.010224                 0.019818   \n",
       "Credit Score                      -0.017438                -0.008405   \n",
       "Annual Income                      1.000000                 0.151890   \n",
       "Years of Credit History            0.151890                 1.000000   \n",
       "Months since last delinquent      -0.082576                -0.041000   \n",
       "Number of Open Accounts            0.138175                 0.126962   \n",
       "Number of Credit Problems         -0.015846                 0.060770   \n",
       "Current Credit Balance             0.293936                 0.205743   \n",
       "Bankruptcies                      -0.045112                 0.064458   \n",
       "Tax Liens                          0.039929                 0.021057   \n",
       "\n",
       "                              Months since last delinquent  \\\n",
       "Current Loan Amount                               0.005888   \n",
       "Credit Score                                     -0.000650   \n",
       "Annual Income                                    -0.082576   \n",
       "Years of Credit History                          -0.041000   \n",
       "Months since last delinquent                      1.000000   \n",
       "Number of Open Accounts                          -0.034093   \n",
       "Number of Credit Problems                         0.105348   \n",
       "Current Credit Balance                           -0.026929   \n",
       "Bankruptcies                                      0.126352   \n",
       "Tax Liens                                         0.009806   \n",
       "\n",
       "                              Number of Open Accounts  \\\n",
       "Current Loan Amount                          0.000517   \n",
       "Credit Score                                 0.001703   \n",
       "Annual Income                                0.138175   \n",
       "Years of Credit History                      0.126962   \n",
       "Months since last delinquent                -0.034093   \n",
       "Number of Open Accounts                      1.000000   \n",
       "Number of Credit Problems                   -0.013959   \n",
       "Current Credit Balance                       0.220552   \n",
       "Bankruptcies                                -0.026015   \n",
       "Tax Liens                                    0.008867   \n",
       "\n",
       "                              Number of Credit Problems  \\\n",
       "Current Loan Amount                           -0.001889   \n",
       "Credit Score                                   0.001914   \n",
       "Annual Income                                 -0.015846   \n",
       "Years of Credit History                        0.060770   \n",
       "Months since last delinquent                   0.105348   \n",
       "Number of Open Accounts                       -0.013959   \n",
       "Number of Credit Problems                      1.000000   \n",
       "Current Credit Balance                        -0.110306   \n",
       "Bankruptcies                                   0.756511   \n",
       "Tax Liens                                      0.579243   \n",
       "\n",
       "                              Current Credit Balance  Bankruptcies  Tax Liens  \n",
       "Current Loan Amount                         0.001960     -0.000828   0.001014  \n",
       "Credit Score                               -0.000791     -0.003667   0.007123  \n",
       "Annual Income                               0.293936     -0.045112   0.039929  \n",
       "Years of Credit History                     0.205743      0.064458   0.021057  \n",
       "Months since last delinquent               -0.026929      0.126352   0.009806  \n",
       "Number of Open Accounts                     0.220552     -0.026015   0.008867  \n",
       "Number of Credit Problems                  -0.110306      0.756511   0.579243  \n",
       "Current Credit Balance                      1.000000     -0.121179  -0.014679  \n",
       "Bankruptcies                               -0.121179      1.000000   0.050242  \n",
       "Tax Liens                                  -0.014679      0.050242   1.000000  "
      ]
     },
     "execution_count": 15,
     "metadata": {},
     "output_type": "execute_result"
    }
   ],
   "source": [
    "loan_train.corr()"
   ]
  },
  {
   "cell_type": "code",
   "execution_count": 16,
   "metadata": {},
   "outputs": [
    {
     "name": "stdout",
     "output_type": "stream",
     "text": [
      "<class 'pandas.core.frame.DataFrame'>\n",
      "Int64Index: 76689 entries, 0 to 77822\n",
      "Data columns (total 19 columns):\n",
      "Loan ID                         76689 non-null object\n",
      "Customer ID                     76689 non-null object\n",
      "Loan Status                     76689 non-null object\n",
      "Current Loan Amount             76689 non-null int64\n",
      "Term                            76689 non-null object\n",
      "Credit Score                    61774 non-null float64\n",
      "Years in current job            73441 non-null object\n",
      "Home Ownership                  76689 non-null object\n",
      "Annual Income                   61774 non-null float64\n",
      "Purpose                         76689 non-null object\n",
      "Monthly Debt                    76689 non-null object\n",
      "Years of Credit History         76689 non-null float64\n",
      "Months since last delinquent    35808 non-null float64\n",
      "Number of Open Accounts         76689 non-null int64\n",
      "Number of Credit Problems       76689 non-null int64\n",
      "Current Credit Balance          76689 non-null int64\n",
      "Maximum Open Credit             76689 non-null object\n",
      "Bankruptcies                    76542 non-null float64\n",
      "Tax Liens                       76684 non-null float64\n",
      "dtypes: float64(6), int64(4), object(9)\n",
      "memory usage: 11.7+ MB\n"
     ]
    }
   ],
   "source": [
    "loan_train.info()\n",
    "## Monthly Debt-Convert, Maximum Open Credit- Convert, Tax Liens"
   ]
  },
  {
   "cell_type": "code",
   "execution_count": 17,
   "metadata": {},
   "outputs": [],
   "source": [
    "loan_train['Monthly Debt'] = loan_train['Monthly Debt'].str.replace('$','')\n",
    "\n",
    "loan_train['Monthly Debt'] = loan_train['Monthly Debt'].astype(float)"
   ]
  },
  {
   "cell_type": "code",
   "execution_count": 18,
   "metadata": {},
   "outputs": [],
   "source": [
    "is_value = loan_train[loan_train['Maximum Open Credit'] == \"#VALUE!\"]\n",
    "loan_train =  loan_train.drop(is_value.index[0],axis=0)"
   ]
  },
  {
   "cell_type": "code",
   "execution_count": 19,
   "metadata": {
    "scrolled": false
   },
   "outputs": [],
   "source": [
    "loan_train['Maximum Open Credit'] = (loan_train['Maximum Open Credit']).astype(float)"
   ]
  },
  {
   "cell_type": "code",
   "execution_count": 20,
   "metadata": {},
   "outputs": [
    {
     "name": "stdout",
     "output_type": "stream",
     "text": [
      "<class 'pandas.core.frame.DataFrame'>\n",
      "Int64Index: 76688 entries, 0 to 77822\n",
      "Data columns (total 19 columns):\n",
      "Loan ID                         76688 non-null object\n",
      "Customer ID                     76688 non-null object\n",
      "Loan Status                     76688 non-null object\n",
      "Current Loan Amount             76688 non-null int64\n",
      "Term                            76688 non-null object\n",
      "Credit Score                    61774 non-null float64\n",
      "Years in current job            73440 non-null object\n",
      "Home Ownership                  76688 non-null object\n",
      "Annual Income                   61774 non-null float64\n",
      "Purpose                         76688 non-null object\n",
      "Monthly Debt                    32768 non-null float64\n",
      "Years of Credit History         76688 non-null float64\n",
      "Months since last delinquent    35807 non-null float64\n",
      "Number of Open Accounts         76688 non-null int64\n",
      "Number of Credit Problems       76688 non-null int64\n",
      "Current Credit Balance          76688 non-null int64\n",
      "Maximum Open Credit             76688 non-null float64\n",
      "Bankruptcies                    76541 non-null float64\n",
      "Tax Liens                       76683 non-null float64\n",
      "dtypes: float64(8), int64(4), object(7)\n",
      "memory usage: 11.7+ MB\n"
     ]
    }
   ],
   "source": [
    "loan_train.info()"
   ]
  },
  {
   "cell_type": "code",
   "execution_count": 21,
   "metadata": {},
   "outputs": [
    {
     "data": {
      "text/plain": [
       "0.0     75190\n",
       "1.0      1032\n",
       "2.0       295\n",
       "3.0        97\n",
       "4.0        39\n",
       "5.0        13\n",
       "6.0         6\n",
       "7.0         4\n",
       "9.0         3\n",
       "11.0        2\n",
       "8.0         2\n",
       "Name: Tax Liens, dtype: int64"
      ]
     },
     "execution_count": 21,
     "metadata": {},
     "output_type": "execute_result"
    }
   ],
   "source": [
    "loan_train['Tax Liens'].value_counts()"
   ]
  },
  {
   "cell_type": "code",
   "execution_count": 22,
   "metadata": {
    "scrolled": true
   },
   "outputs": [
    {
     "data": {
      "text/html": [
       "<div>\n",
       "<style scoped>\n",
       "    .dataframe tbody tr th:only-of-type {\n",
       "        vertical-align: middle;\n",
       "    }\n",
       "\n",
       "    .dataframe tbody tr th {\n",
       "        vertical-align: top;\n",
       "    }\n",
       "\n",
       "    .dataframe thead th {\n",
       "        text-align: right;\n",
       "    }\n",
       "</style>\n",
       "<table border=\"1\" class=\"dataframe\">\n",
       "  <thead>\n",
       "    <tr style=\"text-align: right;\">\n",
       "      <th></th>\n",
       "      <th>Loan ID</th>\n",
       "      <th>Customer ID</th>\n",
       "      <th>Loan Status</th>\n",
       "      <th>Current Loan Amount</th>\n",
       "      <th>Term</th>\n",
       "      <th>Credit Score</th>\n",
       "      <th>Years in current job</th>\n",
       "      <th>Home Ownership</th>\n",
       "      <th>Annual Income</th>\n",
       "      <th>Purpose</th>\n",
       "      <th>Monthly Debt</th>\n",
       "      <th>Years of Credit History</th>\n",
       "      <th>Months since last delinquent</th>\n",
       "      <th>Number of Open Accounts</th>\n",
       "      <th>Number of Credit Problems</th>\n",
       "      <th>Current Credit Balance</th>\n",
       "      <th>Maximum Open Credit</th>\n",
       "      <th>Bankruptcies</th>\n",
       "      <th>Tax Liens</th>\n",
       "    </tr>\n",
       "  </thead>\n",
       "  <tbody>\n",
       "    <tr>\n",
       "      <th>0</th>\n",
       "      <td>a3fdf1db-e991-4293-976c-7d35564c0aec</td>\n",
       "      <td>74561f96-304a-492d-bc19-a6107d2afee9</td>\n",
       "      <td>Charged Off</td>\n",
       "      <td>10120</td>\n",
       "      <td>Long Term</td>\n",
       "      <td>6920.0</td>\n",
       "      <td>10+ years</td>\n",
       "      <td>Rent</td>\n",
       "      <td>47564.0</td>\n",
       "      <td>Debt Consolidation</td>\n",
       "      <td>990.92</td>\n",
       "      <td>21.8</td>\n",
       "      <td>28.0</td>\n",
       "      <td>10</td>\n",
       "      <td>0</td>\n",
       "      <td>3840</td>\n",
       "      <td>7694.0</td>\n",
       "      <td>0.0</td>\n",
       "      <td>0.0</td>\n",
       "    </tr>\n",
       "    <tr>\n",
       "      <th>1</th>\n",
       "      <td>c3f8006d-d1ef-4a94-ba55-c48034974205</td>\n",
       "      <td>b8e70101-dd49-4a39-84a6-5f92b390684c</td>\n",
       "      <td>Fully Paid</td>\n",
       "      <td>7144</td>\n",
       "      <td>Short Term</td>\n",
       "      <td>721.0</td>\n",
       "      <td>2 years</td>\n",
       "      <td>Home Mortgage</td>\n",
       "      <td>40820.0</td>\n",
       "      <td>Debt Consolidation</td>\n",
       "      <td>574.88</td>\n",
       "      <td>10.7</td>\n",
       "      <td>NaN</td>\n",
       "      <td>6</td>\n",
       "      <td>0</td>\n",
       "      <td>13269</td>\n",
       "      <td>22565.0</td>\n",
       "      <td>0.0</td>\n",
       "      <td>0.0</td>\n",
       "    </tr>\n",
       "    <tr>\n",
       "      <th>2</th>\n",
       "      <td>076b722f-3658-47a8-a7f1-5179a9b45ade</td>\n",
       "      <td>0a28e046-9239-4ee0-8770-68a2f72bf2a0</td>\n",
       "      <td>Fully Paid</td>\n",
       "      <td>10100</td>\n",
       "      <td>Short Term</td>\n",
       "      <td>726.0</td>\n",
       "      <td>7 years</td>\n",
       "      <td>Own Home</td>\n",
       "      <td>54540.0</td>\n",
       "      <td>Debt Consolidation</td>\n",
       "      <td>577.22</td>\n",
       "      <td>37.3</td>\n",
       "      <td>NaN</td>\n",
       "      <td>6</td>\n",
       "      <td>0</td>\n",
       "      <td>5373</td>\n",
       "      <td>8667.0</td>\n",
       "      <td>0.0</td>\n",
       "      <td>0.0</td>\n",
       "    </tr>\n",
       "    <tr>\n",
       "      <th>3</th>\n",
       "      <td>c2d68e37-572b-4a3b-afaa-b55a679c7d67</td>\n",
       "      <td>dc755ef2-1773-4d3b-8b6b-668bbae290c5</td>\n",
       "      <td>Fully Paid</td>\n",
       "      <td>30362</td>\n",
       "      <td>Long Term</td>\n",
       "      <td>708.0</td>\n",
       "      <td>1 year</td>\n",
       "      <td>Home Mortgage</td>\n",
       "      <td>63450.0</td>\n",
       "      <td>Debt Consolidation</td>\n",
       "      <td>1110.37</td>\n",
       "      <td>12.5</td>\n",
       "      <td>52.0</td>\n",
       "      <td>14</td>\n",
       "      <td>0</td>\n",
       "      <td>38329</td>\n",
       "      <td>57207.0</td>\n",
       "      <td>0.0</td>\n",
       "      <td>0.0</td>\n",
       "    </tr>\n",
       "    <tr>\n",
       "      <th>4</th>\n",
       "      <td>c02558d1-58cb-4b36-9569-ae55baeb328a</td>\n",
       "      <td>f0804ea2-249b-4e6c-ab2a-1554a7ff6a5b</td>\n",
       "      <td>Fully Paid</td>\n",
       "      <td>3571</td>\n",
       "      <td>Short Term</td>\n",
       "      <td>700.0</td>\n",
       "      <td>5 years</td>\n",
       "      <td>Home Mortgage</td>\n",
       "      <td>41370.0</td>\n",
       "      <td>Debt Consolidation</td>\n",
       "      <td>875.67</td>\n",
       "      <td>13.1</td>\n",
       "      <td>6.0</td>\n",
       "      <td>4</td>\n",
       "      <td>0</td>\n",
       "      <td>384</td>\n",
       "      <td>985.0</td>\n",
       "      <td>0.0</td>\n",
       "      <td>0.0</td>\n",
       "    </tr>\n",
       "  </tbody>\n",
       "</table>\n",
       "</div>"
      ],
      "text/plain": [
       "                                Loan ID                           Customer ID  \\\n",
       "0  a3fdf1db-e991-4293-976c-7d35564c0aec  74561f96-304a-492d-bc19-a6107d2afee9   \n",
       "1  c3f8006d-d1ef-4a94-ba55-c48034974205  b8e70101-dd49-4a39-84a6-5f92b390684c   \n",
       "2  076b722f-3658-47a8-a7f1-5179a9b45ade  0a28e046-9239-4ee0-8770-68a2f72bf2a0   \n",
       "3  c2d68e37-572b-4a3b-afaa-b55a679c7d67  dc755ef2-1773-4d3b-8b6b-668bbae290c5   \n",
       "4  c02558d1-58cb-4b36-9569-ae55baeb328a  f0804ea2-249b-4e6c-ab2a-1554a7ff6a5b   \n",
       "\n",
       "   Loan Status  Current Loan Amount        Term  Credit Score  \\\n",
       "0  Charged Off                10120   Long Term        6920.0   \n",
       "1   Fully Paid                 7144  Short Term         721.0   \n",
       "2   Fully Paid                10100  Short Term         726.0   \n",
       "3   Fully Paid                30362   Long Term         708.0   \n",
       "4   Fully Paid                 3571  Short Term         700.0   \n",
       "\n",
       "  Years in current job Home Ownership  Annual Income             Purpose  \\\n",
       "0            10+ years           Rent        47564.0  Debt Consolidation   \n",
       "1              2 years  Home Mortgage        40820.0  Debt Consolidation   \n",
       "2              7 years       Own Home        54540.0  Debt Consolidation   \n",
       "3               1 year  Home Mortgage        63450.0  Debt Consolidation   \n",
       "4              5 years  Home Mortgage        41370.0  Debt Consolidation   \n",
       "\n",
       "   Monthly Debt  Years of Credit History  Months since last delinquent  \\\n",
       "0        990.92                     21.8                          28.0   \n",
       "1        574.88                     10.7                           NaN   \n",
       "2        577.22                     37.3                           NaN   \n",
       "3       1110.37                     12.5                          52.0   \n",
       "4        875.67                     13.1                           6.0   \n",
       "\n",
       "   Number of Open Accounts  Number of Credit Problems  Current Credit Balance  \\\n",
       "0                       10                          0                    3840   \n",
       "1                        6                          0                   13269   \n",
       "2                        6                          0                    5373   \n",
       "3                       14                          0                   38329   \n",
       "4                        4                          0                     384   \n",
       "\n",
       "   Maximum Open Credit  Bankruptcies  Tax Liens  \n",
       "0               7694.0           0.0        0.0  \n",
       "1              22565.0           0.0        0.0  \n",
       "2               8667.0           0.0        0.0  \n",
       "3              57207.0           0.0        0.0  \n",
       "4                985.0           0.0        0.0  "
      ]
     },
     "execution_count": 22,
     "metadata": {},
     "output_type": "execute_result"
    }
   ],
   "source": [
    "loan_train.head(5)"
   ]
  },
  {
   "cell_type": "code",
   "execution_count": 23,
   "metadata": {},
   "outputs": [],
   "source": [
    "#X_train = loan_train.drop(['Loan Status'],axis=1) ##,'Loan ID','Customer ID'"
   ]
  },
  {
   "cell_type": "code",
   "execution_count": 24,
   "metadata": {},
   "outputs": [],
   "source": [
    "#y_train = loan_train['Loan Status']"
   ]
  },
  {
   "cell_type": "code",
   "execution_count": 25,
   "metadata": {},
   "outputs": [],
   "source": [
    "import matplotlib as plt"
   ]
  },
  {
   "cell_type": "code",
   "execution_count": 26,
   "metadata": {
    "scrolled": true
   },
   "outputs": [
    {
     "data": {
      "text/plain": [
       "array([[<matplotlib.axes._subplots.AxesSubplot object at 0x7f9ab0b30b70>,\n",
       "        <matplotlib.axes._subplots.AxesSubplot object at 0x7f9aaf6e2470>,\n",
       "        <matplotlib.axes._subplots.AxesSubplot object at 0x7f9aaf6cf9e8>],\n",
       "       [<matplotlib.axes._subplots.AxesSubplot object at 0x7f9aaf759f60>,\n",
       "        <matplotlib.axes._subplots.AxesSubplot object at 0x7f9aaefc7518>,\n",
       "        <matplotlib.axes._subplots.AxesSubplot object at 0x7f9aaeff0a90>],\n",
       "       [<matplotlib.axes._subplots.AxesSubplot object at 0x7f9aaeea6048>,\n",
       "        <matplotlib.axes._subplots.AxesSubplot object at 0x7f9aaebc85f8>,\n",
       "        <matplotlib.axes._subplots.AxesSubplot object at 0x7f9aaebc8630>],\n",
       "       [<matplotlib.axes._subplots.AxesSubplot object at 0x7f9aaeba10f0>,\n",
       "        <matplotlib.axes._subplots.AxesSubplot object at 0x7f9aaeb49668>,\n",
       "        <matplotlib.axes._subplots.AxesSubplot object at 0x7f9aaeb6fbe0>]],\n",
       "      dtype=object)"
      ]
     },
     "execution_count": 26,
     "metadata": {},
     "output_type": "execute_result"
    }
   ],
   "source": [
    "loan_train.hist(bins=50,figsize=(15,15))"
   ]
  },
  {
   "cell_type": "code",
   "execution_count": 27,
   "metadata": {},
   "outputs": [
    {
     "data": {
      "text/plain": [
       "(76688, 19)"
      ]
     },
     "execution_count": 27,
     "metadata": {},
     "output_type": "execute_result"
    }
   ],
   "source": [
    "loan_train.shape"
   ]
  },
  {
   "cell_type": "code",
   "execution_count": 28,
   "metadata": {
    "scrolled": true
   },
   "outputs": [
    {
     "data": {
      "text/plain": [
       "count    76683.000000\n",
       "mean         0.029511\n",
       "std          0.255153\n",
       "min          0.000000\n",
       "25%          0.000000\n",
       "50%          0.000000\n",
       "75%          0.000000\n",
       "max         11.000000\n",
       "Name: Tax Liens, dtype: float64"
      ]
     },
     "execution_count": 28,
     "metadata": {},
     "output_type": "execute_result"
    }
   ],
   "source": [
    "loan_train['Tax Liens'].describe()"
   ]
  },
  {
   "cell_type": "code",
   "execution_count": 29,
   "metadata": {},
   "outputs": [],
   "source": [
    "loan_train['Credit Score'].fillna((loan_train['Credit Score'].describe()[-1]),inplace=True)"
   ]
  },
  {
   "cell_type": "code",
   "execution_count": 30,
   "metadata": {},
   "outputs": [],
   "source": [
    "loan_train['Years in current job'].fillna(loan_train['Years in current job'].describe().top,inplace=True)"
   ]
  },
  {
   "cell_type": "code",
   "execution_count": 31,
   "metadata": {},
   "outputs": [],
   "source": [
    "loan_train['Bankruptcies'].fillna(loan_train['Bankruptcies'].describe()[-1],inplace=True)"
   ]
  },
  {
   "cell_type": "code",
   "execution_count": 32,
   "metadata": {},
   "outputs": [],
   "source": [
    "loan_train['Tax Liens'].fillna(loan_train['Tax Liens'].describe()[-1],inplace=True)"
   ]
  },
  {
   "cell_type": "code",
   "execution_count": 33,
   "metadata": {
    "scrolled": false
   },
   "outputs": [
    {
     "data": {
      "text/plain": [
       "Loan ID                             0\n",
       "Customer ID                         0\n",
       "Loan Status                         0\n",
       "Current Loan Amount                 0\n",
       "Term                                0\n",
       "Credit Score                        0\n",
       "Years in current job                0\n",
       "Home Ownership                      0\n",
       "Annual Income                   14914\n",
       "Purpose                             0\n",
       "Monthly Debt                    43920\n",
       "Years of Credit History             0\n",
       "Months since last delinquent    40881\n",
       "Number of Open Accounts             0\n",
       "Number of Credit Problems           0\n",
       "Current Credit Balance              0\n",
       "Maximum Open Credit                 0\n",
       "Bankruptcies                        0\n",
       "Tax Liens                           0\n",
       "dtype: int64"
      ]
     },
     "execution_count": 33,
     "metadata": {},
     "output_type": "execute_result"
    }
   ],
   "source": [
    "loan_train.isnull().sum()"
   ]
  },
  {
   "cell_type": "code",
   "execution_count": 34,
   "metadata": {},
   "outputs": [
    {
     "data": {
      "text/plain": [
       "8713547.0"
      ]
     },
     "execution_count": 34,
     "metadata": {},
     "output_type": "execute_result"
    }
   ],
   "source": [
    "loan_train['Annual Income'].max()"
   ]
  },
  {
   "cell_type": "code",
   "execution_count": 35,
   "metadata": {},
   "outputs": [],
   "source": [
    "loan_train['Annual Income'].fillna(loan_train['Annual Income'].max(),inplace=True)"
   ]
  },
  {
   "cell_type": "code",
   "execution_count": 36,
   "metadata": {},
   "outputs": [
    {
     "data": {
      "text/plain": [
       "22939.12"
      ]
     },
     "execution_count": 36,
     "metadata": {},
     "output_type": "execute_result"
    }
   ],
   "source": [
    "loan_train['Monthly Debt'].max()"
   ]
  },
  {
   "cell_type": "code",
   "execution_count": 37,
   "metadata": {},
   "outputs": [],
   "source": [
    "loan_train['Monthly Debt'].fillna(loan_train['Monthly Debt'].max(),inplace=True)"
   ]
  },
  {
   "cell_type": "code",
   "execution_count": 38,
   "metadata": {},
   "outputs": [],
   "source": [
    "loan_train['Months since last delinquent'].fillna(loan_train['Months since last delinquent'].max(),inplace=True)"
   ]
  },
  {
   "cell_type": "code",
   "execution_count": 39,
   "metadata": {
    "scrolled": true
   },
   "outputs": [
    {
     "data": {
      "text/plain": [
       "Loan ID                         0\n",
       "Customer ID                     0\n",
       "Loan Status                     0\n",
       "Current Loan Amount             0\n",
       "Term                            0\n",
       "Credit Score                    0\n",
       "Years in current job            0\n",
       "Home Ownership                  0\n",
       "Annual Income                   0\n",
       "Purpose                         0\n",
       "Monthly Debt                    0\n",
       "Years of Credit History         0\n",
       "Months since last delinquent    0\n",
       "Number of Open Accounts         0\n",
       "Number of Credit Problems       0\n",
       "Current Credit Balance          0\n",
       "Maximum Open Credit             0\n",
       "Bankruptcies                    0\n",
       "Tax Liens                       0\n",
       "dtype: int64"
      ]
     },
     "execution_count": 39,
     "metadata": {},
     "output_type": "execute_result"
    }
   ],
   "source": [
    "loan_train.isnull().sum()"
   ]
  },
  {
   "cell_type": "code",
   "execution_count": 40,
   "metadata": {},
   "outputs": [
    {
     "data": {
      "text/plain": [
       "10+ years    27246\n",
       "2 years       7082\n",
       "3 years       6296\n",
       "< 1 year      6121\n",
       "5 years       5159\n",
       "1 year        4900\n",
       "4 years       4716\n",
       "6 years       4346\n",
       "7 years       4300\n",
       "8 years       3486\n",
       "9 years       3036\n",
       "Name: Years in current job, dtype: int64"
      ]
     },
     "execution_count": 40,
     "metadata": {},
     "output_type": "execute_result"
    }
   ],
   "source": [
    "loan_train['Years in current job'].value_counts()"
   ]
  },
  {
   "cell_type": "code",
   "execution_count": 49,
   "metadata": {},
   "outputs": [],
   "source": [
    "loan_train = pd.get_dummies(loan_train,columns=['Purpose'],drop_first=True)\n",
    "loan_train = pd.get_dummies(loan_train,columns=['Years in current job'],drop_first=True)\n",
    "loan_train = pd.get_dummies(loan_train,columns=['Term'],drop_first=True)\n",
    "loan_train = pd.get_dummies(loan_train,columns=['Home Ownership'],drop_first=True)\n",
    "##['Term','Credit Score','Years in current job','Home Ownership','Purpose','Number of Credit Problems','Bankruptcies','Tax Liens']"
   ]
  },
  {
   "cell_type": "code",
   "execution_count": 42,
   "metadata": {
    "scrolled": true
   },
   "outputs": [
    {
     "data": {
      "text/html": [
       "<div>\n",
       "<style scoped>\n",
       "    .dataframe tbody tr th:only-of-type {\n",
       "        vertical-align: middle;\n",
       "    }\n",
       "\n",
       "    .dataframe tbody tr th {\n",
       "        vertical-align: top;\n",
       "    }\n",
       "\n",
       "    .dataframe thead th {\n",
       "        text-align: right;\n",
       "    }\n",
       "</style>\n",
       "<table border=\"1\" class=\"dataframe\">\n",
       "  <thead>\n",
       "    <tr style=\"text-align: right;\">\n",
       "      <th></th>\n",
       "      <th>Loan ID</th>\n",
       "      <th>Customer ID</th>\n",
       "      <th>Loan Status</th>\n",
       "      <th>Current Loan Amount</th>\n",
       "      <th>Term</th>\n",
       "      <th>Credit Score</th>\n",
       "      <th>Years in current job</th>\n",
       "      <th>Annual Income</th>\n",
       "      <th>Purpose</th>\n",
       "      <th>Monthly Debt</th>\n",
       "      <th>...</th>\n",
       "      <th>Months since last delinquent</th>\n",
       "      <th>Number of Open Accounts</th>\n",
       "      <th>Number of Credit Problems</th>\n",
       "      <th>Current Credit Balance</th>\n",
       "      <th>Maximum Open Credit</th>\n",
       "      <th>Bankruptcies</th>\n",
       "      <th>Tax Liens</th>\n",
       "      <th>Home Ownership_Home Mortgage</th>\n",
       "      <th>Home Ownership_Own Home</th>\n",
       "      <th>Home Ownership_Rent</th>\n",
       "    </tr>\n",
       "  </thead>\n",
       "  <tbody>\n",
       "    <tr>\n",
       "      <th>0</th>\n",
       "      <td>a3fdf1db-e991-4293-976c-7d35564c0aec</td>\n",
       "      <td>74561f96-304a-492d-bc19-a6107d2afee9</td>\n",
       "      <td>Charged Off</td>\n",
       "      <td>10120</td>\n",
       "      <td>Long Term</td>\n",
       "      <td>6920.0</td>\n",
       "      <td>10+ years</td>\n",
       "      <td>47564.0</td>\n",
       "      <td>Debt Consolidation</td>\n",
       "      <td>990.92</td>\n",
       "      <td>...</td>\n",
       "      <td>28.0</td>\n",
       "      <td>10</td>\n",
       "      <td>0</td>\n",
       "      <td>3840</td>\n",
       "      <td>7694.0</td>\n",
       "      <td>0.0</td>\n",
       "      <td>0.0</td>\n",
       "      <td>0</td>\n",
       "      <td>0</td>\n",
       "      <td>1</td>\n",
       "    </tr>\n",
       "    <tr>\n",
       "      <th>1</th>\n",
       "      <td>c3f8006d-d1ef-4a94-ba55-c48034974205</td>\n",
       "      <td>b8e70101-dd49-4a39-84a6-5f92b390684c</td>\n",
       "      <td>Fully Paid</td>\n",
       "      <td>7144</td>\n",
       "      <td>Short Term</td>\n",
       "      <td>721.0</td>\n",
       "      <td>2 years</td>\n",
       "      <td>40820.0</td>\n",
       "      <td>Debt Consolidation</td>\n",
       "      <td>574.88</td>\n",
       "      <td>...</td>\n",
       "      <td>176.0</td>\n",
       "      <td>6</td>\n",
       "      <td>0</td>\n",
       "      <td>13269</td>\n",
       "      <td>22565.0</td>\n",
       "      <td>0.0</td>\n",
       "      <td>0.0</td>\n",
       "      <td>1</td>\n",
       "      <td>0</td>\n",
       "      <td>0</td>\n",
       "    </tr>\n",
       "    <tr>\n",
       "      <th>2</th>\n",
       "      <td>076b722f-3658-47a8-a7f1-5179a9b45ade</td>\n",
       "      <td>0a28e046-9239-4ee0-8770-68a2f72bf2a0</td>\n",
       "      <td>Fully Paid</td>\n",
       "      <td>10100</td>\n",
       "      <td>Short Term</td>\n",
       "      <td>726.0</td>\n",
       "      <td>7 years</td>\n",
       "      <td>54540.0</td>\n",
       "      <td>Debt Consolidation</td>\n",
       "      <td>577.22</td>\n",
       "      <td>...</td>\n",
       "      <td>176.0</td>\n",
       "      <td>6</td>\n",
       "      <td>0</td>\n",
       "      <td>5373</td>\n",
       "      <td>8667.0</td>\n",
       "      <td>0.0</td>\n",
       "      <td>0.0</td>\n",
       "      <td>0</td>\n",
       "      <td>1</td>\n",
       "      <td>0</td>\n",
       "    </tr>\n",
       "    <tr>\n",
       "      <th>3</th>\n",
       "      <td>c2d68e37-572b-4a3b-afaa-b55a679c7d67</td>\n",
       "      <td>dc755ef2-1773-4d3b-8b6b-668bbae290c5</td>\n",
       "      <td>Fully Paid</td>\n",
       "      <td>30362</td>\n",
       "      <td>Long Term</td>\n",
       "      <td>708.0</td>\n",
       "      <td>1 year</td>\n",
       "      <td>63450.0</td>\n",
       "      <td>Debt Consolidation</td>\n",
       "      <td>1110.37</td>\n",
       "      <td>...</td>\n",
       "      <td>52.0</td>\n",
       "      <td>14</td>\n",
       "      <td>0</td>\n",
       "      <td>38329</td>\n",
       "      <td>57207.0</td>\n",
       "      <td>0.0</td>\n",
       "      <td>0.0</td>\n",
       "      <td>1</td>\n",
       "      <td>0</td>\n",
       "      <td>0</td>\n",
       "    </tr>\n",
       "    <tr>\n",
       "      <th>4</th>\n",
       "      <td>c02558d1-58cb-4b36-9569-ae55baeb328a</td>\n",
       "      <td>f0804ea2-249b-4e6c-ab2a-1554a7ff6a5b</td>\n",
       "      <td>Fully Paid</td>\n",
       "      <td>3571</td>\n",
       "      <td>Short Term</td>\n",
       "      <td>700.0</td>\n",
       "      <td>5 years</td>\n",
       "      <td>41370.0</td>\n",
       "      <td>Debt Consolidation</td>\n",
       "      <td>875.67</td>\n",
       "      <td>...</td>\n",
       "      <td>6.0</td>\n",
       "      <td>4</td>\n",
       "      <td>0</td>\n",
       "      <td>384</td>\n",
       "      <td>985.0</td>\n",
       "      <td>0.0</td>\n",
       "      <td>0.0</td>\n",
       "      <td>1</td>\n",
       "      <td>0</td>\n",
       "      <td>0</td>\n",
       "    </tr>\n",
       "  </tbody>\n",
       "</table>\n",
       "<p>5 rows × 21 columns</p>\n",
       "</div>"
      ],
      "text/plain": [
       "                                Loan ID                           Customer ID  \\\n",
       "0  a3fdf1db-e991-4293-976c-7d35564c0aec  74561f96-304a-492d-bc19-a6107d2afee9   \n",
       "1  c3f8006d-d1ef-4a94-ba55-c48034974205  b8e70101-dd49-4a39-84a6-5f92b390684c   \n",
       "2  076b722f-3658-47a8-a7f1-5179a9b45ade  0a28e046-9239-4ee0-8770-68a2f72bf2a0   \n",
       "3  c2d68e37-572b-4a3b-afaa-b55a679c7d67  dc755ef2-1773-4d3b-8b6b-668bbae290c5   \n",
       "4  c02558d1-58cb-4b36-9569-ae55baeb328a  f0804ea2-249b-4e6c-ab2a-1554a7ff6a5b   \n",
       "\n",
       "   Loan Status  Current Loan Amount        Term  Credit Score  \\\n",
       "0  Charged Off                10120   Long Term        6920.0   \n",
       "1   Fully Paid                 7144  Short Term         721.0   \n",
       "2   Fully Paid                10100  Short Term         726.0   \n",
       "3   Fully Paid                30362   Long Term         708.0   \n",
       "4   Fully Paid                 3571  Short Term         700.0   \n",
       "\n",
       "  Years in current job  Annual Income             Purpose  Monthly Debt  \\\n",
       "0            10+ years        47564.0  Debt Consolidation        990.92   \n",
       "1              2 years        40820.0  Debt Consolidation        574.88   \n",
       "2              7 years        54540.0  Debt Consolidation        577.22   \n",
       "3               1 year        63450.0  Debt Consolidation       1110.37   \n",
       "4              5 years        41370.0  Debt Consolidation        875.67   \n",
       "\n",
       "          ...           Months since last delinquent  Number of Open Accounts  \\\n",
       "0         ...                                   28.0                       10   \n",
       "1         ...                                  176.0                        6   \n",
       "2         ...                                  176.0                        6   \n",
       "3         ...                                   52.0                       14   \n",
       "4         ...                                    6.0                        4   \n",
       "\n",
       "   Number of Credit Problems  Current Credit Balance  Maximum Open Credit  \\\n",
       "0                          0                    3840               7694.0   \n",
       "1                          0                   13269              22565.0   \n",
       "2                          0                    5373               8667.0   \n",
       "3                          0                   38329              57207.0   \n",
       "4                          0                     384                985.0   \n",
       "\n",
       "   Bankruptcies  Tax Liens  Home Ownership_Home Mortgage  \\\n",
       "0           0.0        0.0                             0   \n",
       "1           0.0        0.0                             1   \n",
       "2           0.0        0.0                             0   \n",
       "3           0.0        0.0                             1   \n",
       "4           0.0        0.0                             1   \n",
       "\n",
       "   Home Ownership_Own Home  Home Ownership_Rent  \n",
       "0                        0                    1  \n",
       "1                        0                    0  \n",
       "2                        1                    0  \n",
       "3                        0                    0  \n",
       "4                        0                    0  \n",
       "\n",
       "[5 rows x 21 columns]"
      ]
     },
     "execution_count": 42,
     "metadata": {},
     "output_type": "execute_result"
    }
   ],
   "source": [
    "loan_train.head(5)"
   ]
  },
  {
   "cell_type": "code",
   "execution_count": 50,
   "metadata": {},
   "outputs": [],
   "source": [
    "X_train = loan_train.drop(['Loan Status','Loan ID','Customer ID'],axis=1) ##,'Loan ID','Customer ID'"
   ]
  },
  {
   "cell_type": "code",
   "execution_count": 51,
   "metadata": {},
   "outputs": [],
   "source": [
    "y_train = loan_train['Loan Status']"
   ]
  },
  {
   "cell_type": "code",
   "execution_count": 52,
   "metadata": {},
   "outputs": [],
   "source": [
    "y_train = pd.get_dummies(y_train,columns=['Loan Status'],drop_first=True)"
   ]
  },
  {
   "cell_type": "code",
   "execution_count": 46,
   "metadata": {},
   "outputs": [],
   "source": [
    "from sklearn.preprocessing import StandardScaler"
   ]
  },
  {
   "cell_type": "code",
   "execution_count": 53,
   "metadata": {},
   "outputs": [],
   "source": [
    "ss_train = StandardScaler()"
   ]
  },
  {
   "cell_type": "code",
   "execution_count": 54,
   "metadata": {},
   "outputs": [
    {
     "name": "stderr",
     "output_type": "stream",
     "text": [
      "/home/nbuser/anaconda3_501/lib/python3.6/site-packages/sklearn/preprocessing/data.py:645: DataConversionWarning: Data with input dtype uint8, int64, float64 were all converted to float64 by StandardScaler.\n",
      "  return self.partial_fit(X, y)\n",
      "/home/nbuser/anaconda3_501/lib/python3.6/site-packages/sklearn/base.py:464: DataConversionWarning: Data with input dtype uint8, int64, float64 were all converted to float64 by StandardScaler.\n",
      "  return self.fit(X, **fit_params).transform(X)\n"
     ]
    },
    {
     "data": {
      "text/plain": [
       "array([[-0.36406007,  1.59956549, -0.49867633, ..., -0.20302925,\n",
       "        -0.294517  , -1.59667919],\n",
       "       [-0.36415269, -0.55994017, -0.50064804, ..., -0.20302925,\n",
       "        -0.294517  ,  0.62629989],\n",
       "       [-0.36406069, -0.55819835, -0.49663679, ..., -0.20302925,\n",
       "        -0.294517  ,  0.62629989],\n",
       "       ...,\n",
       "       [ 2.74778813, -0.55854671, -0.48788544, ..., -0.20302925,\n",
       "        -0.294517  ,  0.62629989],\n",
       "       [ 2.74778813, -0.55854671, -0.49507381, ..., -0.20302925,\n",
       "        -0.294517  ,  0.62629989],\n",
       "       [ 2.74778813, -0.55854671, -0.48948321, ..., -0.20302925,\n",
       "        -0.294517  ,  0.62629989]])"
      ]
     },
     "execution_count": 54,
     "metadata": {},
     "output_type": "execute_result"
    }
   ],
   "source": [
    "ss_train.fit_transform(X_train)"
   ]
  },
  {
   "cell_type": "markdown",
   "metadata": {},
   "source": [
    "## <h1> Cleansing Test Data </h1> "
   ]
  },
  {
   "cell_type": "code",
   "execution_count": 55,
   "metadata": {},
   "outputs": [],
   "source": [
    "loan_test.drop_duplicates(subset=None, keep='first', inplace=True)"
   ]
  },
  {
   "cell_type": "code",
   "execution_count": 56,
   "metadata": {},
   "outputs": [],
   "source": [
    "loan_test['Monthly Debt'] = loan_test['Monthly Debt'].str.replace('$','')\n",
    "\n",
    "loan_test['Monthly Debt'] = loan_test['Monthly Debt'].astype(float)"
   ]
  },
  {
   "cell_type": "code",
   "execution_count": 57,
   "metadata": {},
   "outputs": [],
   "source": [
    "is_value_test = loan_test[loan_test['Maximum Open Credit'] == \"#VALUE!\"]\n",
    "loan_test =  loan_test.drop(is_value_test.index[0],axis=0)"
   ]
  },
  {
   "cell_type": "code",
   "execution_count": 58,
   "metadata": {
    "scrolled": false
   },
   "outputs": [],
   "source": [
    "loan_test['Maximum Open Credit'] = (loan_test['Maximum Open Credit']).astype(float)"
   ]
  },
  {
   "cell_type": "code",
   "execution_count": 59,
   "metadata": {},
   "outputs": [],
   "source": [
    "loan_test['Credit Score'].fillna((loan_test['Credit Score'].describe()[-1]),inplace=True)"
   ]
  },
  {
   "cell_type": "code",
   "execution_count": 60,
   "metadata": {},
   "outputs": [],
   "source": [
    "loan_test['Years in current job'].fillna(loan_test['Years in current job'].describe().top,inplace=True)"
   ]
  },
  {
   "cell_type": "code",
   "execution_count": 61,
   "metadata": {},
   "outputs": [],
   "source": [
    "loan_test['Bankruptcies'].fillna(loan_test['Bankruptcies'].describe()[-1],inplace=True)"
   ]
  },
  {
   "cell_type": "code",
   "execution_count": 62,
   "metadata": {},
   "outputs": [],
   "source": [
    "loan_test['Tax Liens'].fillna(loan_test['Tax Liens'].describe()[-1],inplace=True)"
   ]
  },
  {
   "cell_type": "code",
   "execution_count": 63,
   "metadata": {
    "scrolled": true
   },
   "outputs": [
    {
     "data": {
      "text/plain": [
       "Loan ID                             0\n",
       "Customer ID                         0\n",
       "Loan Status                         0\n",
       "Current Loan Amount                 0\n",
       "Term                                0\n",
       "Credit Score                        0\n",
       "Years in current job                0\n",
       "Home Ownership                      0\n",
       "Annual Income                    4849\n",
       "Purpose                             0\n",
       "Monthly Debt                        0\n",
       "Years of Credit History             0\n",
       "Months since last delinquent    14472\n",
       "Number of Open Accounts             0\n",
       "Number of Credit Problems           0\n",
       "Current Credit Balance              0\n",
       "Maximum Open Credit                 0\n",
       "Bankruptcies                        0\n",
       "Tax Liens                           0\n",
       "dtype: int64"
      ]
     },
     "execution_count": 63,
     "metadata": {},
     "output_type": "execute_result"
    }
   ],
   "source": [
    "loan_test.isnull().sum()"
   ]
  },
  {
   "cell_type": "code",
   "execution_count": 64,
   "metadata": {},
   "outputs": [
    {
     "data": {
      "text/plain": [
       "1478700.0"
      ]
     },
     "execution_count": 64,
     "metadata": {},
     "output_type": "execute_result"
    }
   ],
   "source": [
    "loan_test['Annual Income'].max()"
   ]
  },
  {
   "cell_type": "code",
   "execution_count": 65,
   "metadata": {},
   "outputs": [],
   "source": [
    "loan_test['Annual Income'].fillna(loan_test['Annual Income'].max(),inplace=True)"
   ]
  },
  {
   "cell_type": "code",
   "execution_count": 66,
   "metadata": {},
   "outputs": [
    {
     "data": {
      "text/plain": [
       "9060.85"
      ]
     },
     "execution_count": 66,
     "metadata": {},
     "output_type": "execute_result"
    }
   ],
   "source": [
    "loan_test['Monthly Debt'].max()"
   ]
  },
  {
   "cell_type": "code",
   "execution_count": 67,
   "metadata": {},
   "outputs": [],
   "source": [
    "loan_test['Months since last delinquent'].fillna(loan_test['Months since last delinquent'].max(),inplace=True)"
   ]
  },
  {
   "cell_type": "code",
   "execution_count": 68,
   "metadata": {
    "scrolled": true
   },
   "outputs": [
    {
     "data": {
      "text/plain": [
       "Loan ID                         0\n",
       "Customer ID                     0\n",
       "Loan Status                     0\n",
       "Current Loan Amount             0\n",
       "Term                            0\n",
       "Credit Score                    0\n",
       "Years in current job            0\n",
       "Home Ownership                  0\n",
       "Annual Income                   0\n",
       "Purpose                         0\n",
       "Monthly Debt                    0\n",
       "Years of Credit History         0\n",
       "Months since last delinquent    0\n",
       "Number of Open Accounts         0\n",
       "Number of Credit Problems       0\n",
       "Current Credit Balance          0\n",
       "Maximum Open Credit             0\n",
       "Bankruptcies                    0\n",
       "Tax Liens                       0\n",
       "dtype: int64"
      ]
     },
     "execution_count": 68,
     "metadata": {},
     "output_type": "execute_result"
    }
   ],
   "source": [
    "loan_test.isnull().sum()"
   ]
  },
  {
   "cell_type": "code",
   "execution_count": 69,
   "metadata": {},
   "outputs": [],
   "source": [
    "loan_test = pd.get_dummies(loan_test,columns=['Purpose'],drop_first=True)\n",
    "loan_test = pd.get_dummies(loan_test,columns=['Years in current job'],drop_first=True)\n",
    "loan_test = pd.get_dummies(loan_test,columns=['Term'],drop_first=True)\n",
    "loan_test = pd.get_dummies(loan_test,columns=['Home Ownership'],drop_first=True)\n",
    "##['Term','Credit Score','Years in current job','Home Ownership','Purpose','Number of Credit Problems','Bankruptcies','Tax Liens']"
   ]
  },
  {
   "cell_type": "code",
   "execution_count": 70,
   "metadata": {},
   "outputs": [
    {
     "data": {
      "text/html": [
       "<div>\n",
       "<style scoped>\n",
       "    .dataframe tbody tr th:only-of-type {\n",
       "        vertical-align: middle;\n",
       "    }\n",
       "\n",
       "    .dataframe tbody tr th {\n",
       "        vertical-align: top;\n",
       "    }\n",
       "\n",
       "    .dataframe thead th {\n",
       "        text-align: right;\n",
       "    }\n",
       "</style>\n",
       "<table border=\"1\" class=\"dataframe\">\n",
       "  <thead>\n",
       "    <tr style=\"text-align: right;\">\n",
       "      <th></th>\n",
       "      <th>Loan ID</th>\n",
       "      <th>Customer ID</th>\n",
       "      <th>Loan Status</th>\n",
       "      <th>Current Loan Amount</th>\n",
       "      <th>Credit Score</th>\n",
       "      <th>Annual Income</th>\n",
       "      <th>Monthly Debt</th>\n",
       "      <th>Years of Credit History</th>\n",
       "      <th>Months since last delinquent</th>\n",
       "      <th>Number of Open Accounts</th>\n",
       "      <th>...</th>\n",
       "      <th>Years in current job_2 years</th>\n",
       "      <th>Years in current job_3 years</th>\n",
       "      <th>Years in current job_4 years</th>\n",
       "      <th>Years in current job_5 years</th>\n",
       "      <th>Years in current job_6 years</th>\n",
       "      <th>Years in current job_7 years</th>\n",
       "      <th>Years in current job_8 years</th>\n",
       "      <th>Years in current job_9 years</th>\n",
       "      <th>Years in current job_&lt; 1 year</th>\n",
       "      <th>Term_Short Term</th>\n",
       "    </tr>\n",
       "  </thead>\n",
       "  <tbody>\n",
       "    <tr>\n",
       "      <th>0</th>\n",
       "      <td>a3fdf1db-e991-4293-976c-7d35564c0aec</td>\n",
       "      <td>74561f96-304a-492d-bc19-a6107d2afee9</td>\n",
       "      <td>Charged Off</td>\n",
       "      <td>10120</td>\n",
       "      <td>6920.0</td>\n",
       "      <td>47564.0</td>\n",
       "      <td>990.92</td>\n",
       "      <td>21.8</td>\n",
       "      <td>28.0</td>\n",
       "      <td>10</td>\n",
       "      <td>...</td>\n",
       "      <td>0</td>\n",
       "      <td>0</td>\n",
       "      <td>0</td>\n",
       "      <td>0</td>\n",
       "      <td>0</td>\n",
       "      <td>0</td>\n",
       "      <td>0</td>\n",
       "      <td>0</td>\n",
       "      <td>0</td>\n",
       "      <td>0</td>\n",
       "    </tr>\n",
       "    <tr>\n",
       "      <th>1</th>\n",
       "      <td>c3f8006d-d1ef-4a94-ba55-c48034974205</td>\n",
       "      <td>b8e70101-dd49-4a39-84a6-5f92b390684c</td>\n",
       "      <td>Fully Paid</td>\n",
       "      <td>7144</td>\n",
       "      <td>721.0</td>\n",
       "      <td>40820.0</td>\n",
       "      <td>574.88</td>\n",
       "      <td>10.7</td>\n",
       "      <td>176.0</td>\n",
       "      <td>6</td>\n",
       "      <td>...</td>\n",
       "      <td>1</td>\n",
       "      <td>0</td>\n",
       "      <td>0</td>\n",
       "      <td>0</td>\n",
       "      <td>0</td>\n",
       "      <td>0</td>\n",
       "      <td>0</td>\n",
       "      <td>0</td>\n",
       "      <td>0</td>\n",
       "      <td>1</td>\n",
       "    </tr>\n",
       "    <tr>\n",
       "      <th>2</th>\n",
       "      <td>076b722f-3658-47a8-a7f1-5179a9b45ade</td>\n",
       "      <td>0a28e046-9239-4ee0-8770-68a2f72bf2a0</td>\n",
       "      <td>Fully Paid</td>\n",
       "      <td>10100</td>\n",
       "      <td>726.0</td>\n",
       "      <td>54540.0</td>\n",
       "      <td>577.22</td>\n",
       "      <td>37.3</td>\n",
       "      <td>176.0</td>\n",
       "      <td>6</td>\n",
       "      <td>...</td>\n",
       "      <td>0</td>\n",
       "      <td>0</td>\n",
       "      <td>0</td>\n",
       "      <td>0</td>\n",
       "      <td>0</td>\n",
       "      <td>1</td>\n",
       "      <td>0</td>\n",
       "      <td>0</td>\n",
       "      <td>0</td>\n",
       "      <td>1</td>\n",
       "    </tr>\n",
       "    <tr>\n",
       "      <th>3</th>\n",
       "      <td>c2d68e37-572b-4a3b-afaa-b55a679c7d67</td>\n",
       "      <td>dc755ef2-1773-4d3b-8b6b-668bbae290c5</td>\n",
       "      <td>Fully Paid</td>\n",
       "      <td>30362</td>\n",
       "      <td>708.0</td>\n",
       "      <td>63450.0</td>\n",
       "      <td>1110.37</td>\n",
       "      <td>12.5</td>\n",
       "      <td>52.0</td>\n",
       "      <td>14</td>\n",
       "      <td>...</td>\n",
       "      <td>0</td>\n",
       "      <td>0</td>\n",
       "      <td>0</td>\n",
       "      <td>0</td>\n",
       "      <td>0</td>\n",
       "      <td>0</td>\n",
       "      <td>0</td>\n",
       "      <td>0</td>\n",
       "      <td>0</td>\n",
       "      <td>0</td>\n",
       "    </tr>\n",
       "    <tr>\n",
       "      <th>4</th>\n",
       "      <td>c02558d1-58cb-4b36-9569-ae55baeb328a</td>\n",
       "      <td>f0804ea2-249b-4e6c-ab2a-1554a7ff6a5b</td>\n",
       "      <td>Fully Paid</td>\n",
       "      <td>3571</td>\n",
       "      <td>700.0</td>\n",
       "      <td>41370.0</td>\n",
       "      <td>875.67</td>\n",
       "      <td>13.1</td>\n",
       "      <td>6.0</td>\n",
       "      <td>4</td>\n",
       "      <td>...</td>\n",
       "      <td>0</td>\n",
       "      <td>0</td>\n",
       "      <td>0</td>\n",
       "      <td>1</td>\n",
       "      <td>0</td>\n",
       "      <td>0</td>\n",
       "      <td>0</td>\n",
       "      <td>0</td>\n",
       "      <td>0</td>\n",
       "      <td>1</td>\n",
       "    </tr>\n",
       "  </tbody>\n",
       "</table>\n",
       "<p>5 rows × 44 columns</p>\n",
       "</div>"
      ],
      "text/plain": [
       "                                Loan ID                           Customer ID  \\\n",
       "0  a3fdf1db-e991-4293-976c-7d35564c0aec  74561f96-304a-492d-bc19-a6107d2afee9   \n",
       "1  c3f8006d-d1ef-4a94-ba55-c48034974205  b8e70101-dd49-4a39-84a6-5f92b390684c   \n",
       "2  076b722f-3658-47a8-a7f1-5179a9b45ade  0a28e046-9239-4ee0-8770-68a2f72bf2a0   \n",
       "3  c2d68e37-572b-4a3b-afaa-b55a679c7d67  dc755ef2-1773-4d3b-8b6b-668bbae290c5   \n",
       "4  c02558d1-58cb-4b36-9569-ae55baeb328a  f0804ea2-249b-4e6c-ab2a-1554a7ff6a5b   \n",
       "\n",
       "   Loan Status  Current Loan Amount  Credit Score  Annual Income  \\\n",
       "0  Charged Off                10120        6920.0        47564.0   \n",
       "1   Fully Paid                 7144         721.0        40820.0   \n",
       "2   Fully Paid                10100         726.0        54540.0   \n",
       "3   Fully Paid                30362         708.0        63450.0   \n",
       "4   Fully Paid                 3571         700.0        41370.0   \n",
       "\n",
       "   Monthly Debt  Years of Credit History  Months since last delinquent  \\\n",
       "0        990.92                     21.8                          28.0   \n",
       "1        574.88                     10.7                         176.0   \n",
       "2        577.22                     37.3                         176.0   \n",
       "3       1110.37                     12.5                          52.0   \n",
       "4        875.67                     13.1                           6.0   \n",
       "\n",
       "   Number of Open Accounts       ...         Years in current job_2 years  \\\n",
       "0                       10       ...                                    0   \n",
       "1                        6       ...                                    1   \n",
       "2                        6       ...                                    0   \n",
       "3                       14       ...                                    0   \n",
       "4                        4       ...                                    0   \n",
       "\n",
       "   Years in current job_3 years  Years in current job_4 years  \\\n",
       "0                             0                             0   \n",
       "1                             0                             0   \n",
       "2                             0                             0   \n",
       "3                             0                             0   \n",
       "4                             0                             0   \n",
       "\n",
       "   Years in current job_5 years  Years in current job_6 years  \\\n",
       "0                             0                             0   \n",
       "1                             0                             0   \n",
       "2                             0                             0   \n",
       "3                             0                             0   \n",
       "4                             1                             0   \n",
       "\n",
       "   Years in current job_7 years  Years in current job_8 years  \\\n",
       "0                             0                             0   \n",
       "1                             0                             0   \n",
       "2                             1                             0   \n",
       "3                             0                             0   \n",
       "4                             0                             0   \n",
       "\n",
       "   Years in current job_9 years  Years in current job_< 1 year  \\\n",
       "0                             0                              0   \n",
       "1                             0                              0   \n",
       "2                             0                              0   \n",
       "3                             0                              0   \n",
       "4                             0                              0   \n",
       "\n",
       "   Term_Short Term  \n",
       "0                0  \n",
       "1                1  \n",
       "2                1  \n",
       "3                0  \n",
       "4                1  \n",
       "\n",
       "[5 rows x 44 columns]"
      ]
     },
     "execution_count": 70,
     "metadata": {},
     "output_type": "execute_result"
    }
   ],
   "source": [
    "loan_train.head(5)"
   ]
  },
  {
   "cell_type": "code",
   "execution_count": 71,
   "metadata": {},
   "outputs": [],
   "source": [
    "X_test = loan_test.drop(['Loan Status','Loan ID','Customer ID'],axis=1) ##,'Loan ID','Customer ID'"
   ]
  },
  {
   "cell_type": "code",
   "execution_count": 72,
   "metadata": {},
   "outputs": [],
   "source": [
    "y_test = loan_test['Loan Status']"
   ]
  },
  {
   "cell_type": "code",
   "execution_count": 73,
   "metadata": {},
   "outputs": [],
   "source": [
    "y_test = pd.get_dummies(y_test,columns=['Loan Status'],drop_first=True)"
   ]
  },
  {
   "cell_type": "code",
   "execution_count": 74,
   "metadata": {},
   "outputs": [],
   "source": [
    "ss_test = StandardScaler()"
   ]
  },
  {
   "cell_type": "code",
   "execution_count": 75,
   "metadata": {
    "scrolled": false
   },
   "outputs": [
    {
     "name": "stderr",
     "output_type": "stream",
     "text": [
      "/home/nbuser/anaconda3_501/lib/python3.6/site-packages/sklearn/preprocessing/data.py:645: DataConversionWarning: Data with input dtype uint8, int64, float64 were all converted to float64 by StandardScaler.\n",
      "  return self.partial_fit(X, y)\n",
      "/home/nbuser/anaconda3_501/lib/python3.6/site-packages/sklearn/base.py:464: DataConversionWarning: Data with input dtype uint8, int64, float64 were all converted to float64 by StandardScaler.\n",
      "  return self.fit(X, **fit_params).transform(X)\n"
     ]
    },
    {
     "data": {
      "text/plain": [
       "array([[ 3.14075751, -0.55944257, -0.46265583, ...,  1.02682949,\n",
       "        -0.31560137, -0.852651  ],\n",
       "       [-0.31769565, -0.56084087, -0.4050397 , ...,  1.02682949,\n",
       "        -0.31560137, -0.852651  ],\n",
       "       [-0.31825649, -0.55419891, -0.47398835, ..., -0.97387152,\n",
       "         3.1685541 , -0.852651  ],\n",
       "       ...,\n",
       "       [ 3.14075751, -0.55175187, -0.54100047, ..., -0.97387152,\n",
       "         3.1685541 , -0.852651  ],\n",
       "       [-0.31852558,  1.81138895,  2.11429147, ..., -0.97387152,\n",
       "        -0.31560137,  1.17281279],\n",
       "       [ 3.14075751, -0.55349976, -0.50389604, ...,  1.02682949,\n",
       "        -0.31560137, -0.852651  ]])"
      ]
     },
     "execution_count": 75,
     "metadata": {},
     "output_type": "execute_result"
    }
   ],
   "source": [
    "ss_test.fit_transform(X_test)"
   ]
  },
  {
   "cell_type": "markdown",
   "metadata": {},
   "source": [
    "## Applying Linear Regression"
   ]
  },
  {
   "cell_type": "code",
   "execution_count": 76,
   "metadata": {},
   "outputs": [
    {
     "data": {
      "text/plain": [
       "((76688, 41), (76688, 1))"
      ]
     },
     "execution_count": 76,
     "metadata": {},
     "output_type": "execute_result"
    }
   ],
   "source": [
    "X_train.shape,  y_train.shape"
   ]
  },
  {
   "cell_type": "code",
   "execution_count": 77,
   "metadata": {},
   "outputs": [],
   "source": [
    "from sklearn.linear_model import LogisticRegression"
   ]
  },
  {
   "cell_type": "code",
   "execution_count": 78,
   "metadata": {},
   "outputs": [],
   "source": [
    "lrm = LogisticRegression()"
   ]
  },
  {
   "cell_type": "code",
   "execution_count": 79,
   "metadata": {},
   "outputs": [
    {
     "name": "stderr",
     "output_type": "stream",
     "text": [
      "/home/nbuser/anaconda3_501/lib/python3.6/site-packages/sklearn/linear_model/logistic.py:433: FutureWarning: Default solver will be changed to 'lbfgs' in 0.22. Specify a solver to silence this warning.\n",
      "  FutureWarning)\n",
      "/home/nbuser/anaconda3_501/lib/python3.6/site-packages/sklearn/utils/validation.py:761: DataConversionWarning: A column-vector y was passed when a 1d array was expected. Please change the shape of y to (n_samples, ), for example using ravel().\n",
      "  y = column_or_1d(y, warn=True)\n"
     ]
    },
    {
     "data": {
      "text/plain": [
       "LogisticRegression(C=1.0, class_weight=None, dual=False, fit_intercept=True,\n",
       "          intercept_scaling=1, max_iter=100, multi_class='warn',\n",
       "          n_jobs=None, penalty='l2', random_state=None, solver='warn',\n",
       "          tol=0.0001, verbose=0, warm_start=False)"
      ]
     },
     "execution_count": 79,
     "metadata": {},
     "output_type": "execute_result"
    }
   ],
   "source": [
    "lrm.fit(X_train,y_train)"
   ]
  },
  {
   "cell_type": "code",
   "execution_count": 80,
   "metadata": {},
   "outputs": [],
   "source": [
    "y_pred_train = lrm.predict(X_train)"
   ]
  },
  {
   "cell_type": "code",
   "execution_count": 81,
   "metadata": {},
   "outputs": [],
   "source": [
    "from sklearn.metrics import confusion_matrix,accuracy_score"
   ]
  },
  {
   "cell_type": "code",
   "execution_count": 82,
   "metadata": {},
   "outputs": [
    {
     "data": {
      "text/plain": [
       "array([[ 4100, 13520],\n",
       "       [ 2063, 57005]])"
      ]
     },
     "execution_count": 82,
     "metadata": {},
     "output_type": "execute_result"
    }
   ],
   "source": [
    "confusion_matrix(y_train,y_pred_train)"
   ]
  },
  {
   "cell_type": "code",
   "execution_count": 83,
   "metadata": {
    "scrolled": false
   },
   "outputs": [
    {
     "data": {
      "text/plain": [
       "array([0, 1, 1, ..., 1, 1, 1], dtype=uint8)"
      ]
     },
     "execution_count": 83,
     "metadata": {},
     "output_type": "execute_result"
    }
   ],
   "source": [
    "y_pred_train"
   ]
  },
  {
   "cell_type": "code",
   "execution_count": 84,
   "metadata": {},
   "outputs": [
    {
     "data": {
      "text/plain": [
       "0.7968000208637597"
      ]
     },
     "execution_count": 84,
     "metadata": {},
     "output_type": "execute_result"
    }
   ],
   "source": [
    "accuracy_score(y_train,y_pred_train)"
   ]
  },
  {
   "cell_type": "code",
   "execution_count": 85,
   "metadata": {},
   "outputs": [
    {
     "data": {
      "text/plain": [
       "0.9473107205740673"
      ]
     },
     "execution_count": 85,
     "metadata": {},
     "output_type": "execute_result"
    }
   ],
   "source": [
    "sensitivity_lr = 57030/(57030+3172)\n",
    "sensitivity_lr"
   ]
  },
  {
   "cell_type": "code",
   "execution_count": 86,
   "metadata": {},
   "outputs": [
    {
     "data": {
      "text/plain": [
       "0.25624290578887626"
      ]
     },
     "execution_count": 86,
     "metadata": {},
     "output_type": "execute_result"
    }
   ],
   "source": [
    "specificit_lr= 4515/(4515+13105)\n",
    "specificit_lr"
   ]
  },
  {
   "cell_type": "markdown",
   "metadata": {},
   "source": [
    "## Decision Tree"
   ]
  },
  {
   "cell_type": "code",
   "execution_count": 87,
   "metadata": {},
   "outputs": [],
   "source": [
    "from sklearn.tree import  DecisionTreeClassifier"
   ]
  },
  {
   "cell_type": "code",
   "execution_count": 88,
   "metadata": {},
   "outputs": [],
   "source": [
    "dtr_model = DecisionTreeClassifier()"
   ]
  },
  {
   "cell_type": "code",
   "execution_count": 89,
   "metadata": {},
   "outputs": [
    {
     "data": {
      "text/plain": [
       "DecisionTreeClassifier(class_weight=None, criterion='gini', max_depth=None,\n",
       "            max_features=None, max_leaf_nodes=None,\n",
       "            min_impurity_decrease=0.0, min_impurity_split=None,\n",
       "            min_samples_leaf=1, min_samples_split=2,\n",
       "            min_weight_fraction_leaf=0.0, presort=False, random_state=None,\n",
       "            splitter='best')"
      ]
     },
     "execution_count": 89,
     "metadata": {},
     "output_type": "execute_result"
    }
   ],
   "source": [
    "dtr_model.fit(X_train,y_train)"
   ]
  },
  {
   "cell_type": "code",
   "execution_count": 90,
   "metadata": {},
   "outputs": [],
   "source": [
    "y_pred_tree_train = dtr_model.predict(X_train)"
   ]
  },
  {
   "cell_type": "code",
   "execution_count": 91,
   "metadata": {
    "scrolled": true
   },
   "outputs": [
    {
     "data": {
      "text/plain": [
       "array([[17620,     0],\n",
       "       [    0, 59068]])"
      ]
     },
     "execution_count": 91,
     "metadata": {},
     "output_type": "execute_result"
    }
   ],
   "source": [
    "confusion_matrix(y_train,y_pred_tree_train)"
   ]
  },
  {
   "cell_type": "code",
   "execution_count": 92,
   "metadata": {},
   "outputs": [
    {
     "data": {
      "text/plain": [
       "1.0"
      ]
     },
     "execution_count": 92,
     "metadata": {},
     "output_type": "execute_result"
    }
   ],
   "source": [
    "accuracy_score(y_train,y_pred_tree_train)"
   ]
  },
  {
   "cell_type": "code",
   "execution_count": 93,
   "metadata": {
    "scrolled": true
   },
   "outputs": [
    {
     "data": {
      "text/plain": [
       "1.0"
      ]
     },
     "execution_count": 93,
     "metadata": {},
     "output_type": "execute_result"
    }
   ],
   "source": [
    "sensitivity_tree = 60202/60202\n",
    "sensitivity_tree"
   ]
  },
  {
   "cell_type": "code",
   "execution_count": 94,
   "metadata": {},
   "outputs": [
    {
     "data": {
      "text/plain": [
       "1.0"
      ]
     },
     "execution_count": 94,
     "metadata": {},
     "output_type": "execute_result"
    }
   ],
   "source": [
    "specificit_tree = 17620/17620\n",
    "specificit_tree"
   ]
  },
  {
   "cell_type": "markdown",
   "metadata": {},
   "source": [
    "## Cross_Validation"
   ]
  },
  {
   "cell_type": "code",
   "execution_count": 95,
   "metadata": {},
   "outputs": [],
   "source": [
    "from sklearn.model_selection import GridSearchCV"
   ]
  },
  {
   "cell_type": "code",
   "execution_count": 96,
   "metadata": {},
   "outputs": [],
   "source": [
    "parameters = {'max_depth':[1,2,3,4,5,6,7,8,9,10,11,12,13,14,15,16]}"
   ]
  },
  {
   "cell_type": "code",
   "execution_count": 97,
   "metadata": {},
   "outputs": [],
   "source": [
    "scores = GridSearchCV(dtr_model,param_grid=parameters,scoring='r2', cv=10)"
   ]
  },
  {
   "cell_type": "code",
   "execution_count": 98,
   "metadata": {},
   "outputs": [
    {
     "data": {
      "text/plain": [
       "GridSearchCV(cv=10, error_score='raise-deprecating',\n",
       "       estimator=DecisionTreeClassifier(class_weight=None, criterion='gini', max_depth=None,\n",
       "            max_features=None, max_leaf_nodes=None,\n",
       "            min_impurity_decrease=0.0, min_impurity_split=None,\n",
       "            min_samples_leaf=1, min_samples_split=2,\n",
       "            min_weight_fraction_leaf=0.0, presort=False, random_state=None,\n",
       "            splitter='best'),\n",
       "       fit_params=None, iid='warn', n_jobs=None,\n",
       "       param_grid={'max_depth': [1, 2, 3, 4, 5, 6, 7, 8, 9, 10, 11, 12, 13, 14, 15, 16]},\n",
       "       pre_dispatch='2*n_jobs', refit=True, return_train_score='warn',\n",
       "       scoring='r2', verbose=0)"
      ]
     },
     "execution_count": 98,
     "metadata": {},
     "output_type": "execute_result"
    }
   ],
   "source": [
    "scores.fit(X_train,y_train)"
   ]
  },
  {
   "cell_type": "code",
   "execution_count": 99,
   "metadata": {},
   "outputs": [
    {
     "data": {
      "text/plain": [
       "{'max_depth': 4}"
      ]
     },
     "execution_count": 99,
     "metadata": {},
     "output_type": "execute_result"
    }
   ],
   "source": [
    "scores.best_params_"
   ]
  },
  {
   "cell_type": "code",
   "execution_count": 100,
   "metadata": {},
   "outputs": [],
   "source": [
    "y_predict_cv = scores.predict(X_train)"
   ]
  },
  {
   "cell_type": "code",
   "execution_count": 101,
   "metadata": {},
   "outputs": [
    {
     "data": {
      "text/plain": [
       "0.8218234925933653"
      ]
     },
     "execution_count": 101,
     "metadata": {},
     "output_type": "execute_result"
    }
   ],
   "source": [
    "accuracy_score(y_train,y_predict_cv)"
   ]
  },
  {
   "cell_type": "code",
   "execution_count": 102,
   "metadata": {},
   "outputs": [
    {
     "data": {
      "text/plain": [
       "array([[ 4284, 13336],\n",
       "       [  328, 58740]])"
      ]
     },
     "execution_count": 102,
     "metadata": {},
     "output_type": "execute_result"
    }
   ],
   "source": [
    "confusion_matrix(y_train,y_predict_cv)"
   ]
  },
  {
   "cell_type": "code",
   "execution_count": 103,
   "metadata": {
    "scrolled": true
   },
   "outputs": [
    {
     "data": {
      "text/plain": [
       "0.9945516760240524"
      ]
     },
     "execution_count": 103,
     "metadata": {},
     "output_type": "execute_result"
    }
   ],
   "source": [
    "sensitivity_cv = 59874/(59874+328)\n",
    "sensitivity_cv"
   ]
  },
  {
   "cell_type": "code",
   "execution_count": 104,
   "metadata": {},
   "outputs": [
    {
     "data": {
      "text/plain": [
       "0.2431328036322361"
      ]
     },
     "execution_count": 104,
     "metadata": {},
     "output_type": "execute_result"
    }
   ],
   "source": [
    "specificit_cv = 4284/(4284+13336)\n",
    "specificit_cv"
   ]
  },
  {
   "cell_type": "markdown",
   "metadata": {},
   "source": [
    "## Random Forest "
   ]
  },
  {
   "cell_type": "code",
   "execution_count": 105,
   "metadata": {},
   "outputs": [],
   "source": [
    "from sklearn.ensemble import RandomForestClassifier"
   ]
  },
  {
   "cell_type": "code",
   "execution_count": 106,
   "metadata": {},
   "outputs": [],
   "source": [
    "rfc = RandomForestClassifier()"
   ]
  },
  {
   "cell_type": "code",
   "execution_count": 107,
   "metadata": {},
   "outputs": [
    {
     "name": "stderr",
     "output_type": "stream",
     "text": [
      "/home/nbuser/anaconda3_501/lib/python3.6/site-packages/sklearn/ensemble/forest.py:246: FutureWarning: The default value of n_estimators will change from 10 in version 0.20 to 100 in 0.22.\n",
      "  \"10 in version 0.20 to 100 in 0.22.\", FutureWarning)\n",
      "/home/nbuser/anaconda3_501/lib/python3.6/site-packages/ipykernel/__main__.py:1: DataConversionWarning: A column-vector y was passed when a 1d array was expected. Please change the shape of y to (n_samples,), for example using ravel().\n",
      "  if __name__ == '__main__':\n"
     ]
    },
    {
     "data": {
      "text/plain": [
       "RandomForestClassifier(bootstrap=True, class_weight=None, criterion='gini',\n",
       "            max_depth=None, max_features='auto', max_leaf_nodes=None,\n",
       "            min_impurity_decrease=0.0, min_impurity_split=None,\n",
       "            min_samples_leaf=1, min_samples_split=2,\n",
       "            min_weight_fraction_leaf=0.0, n_estimators=10, n_jobs=None,\n",
       "            oob_score=False, random_state=None, verbose=0,\n",
       "            warm_start=False)"
      ]
     },
     "execution_count": 107,
     "metadata": {},
     "output_type": "execute_result"
    }
   ],
   "source": [
    "rfc.fit(X_train,y_train)"
   ]
  },
  {
   "cell_type": "code",
   "execution_count": 108,
   "metadata": {},
   "outputs": [],
   "source": [
    "y_rfc_pred = rfc.predict(X_train)"
   ]
  },
  {
   "cell_type": "code",
   "execution_count": 109,
   "metadata": {},
   "outputs": [
    {
     "data": {
      "text/plain": [
       "0.9929063217191738"
      ]
     },
     "execution_count": 109,
     "metadata": {},
     "output_type": "execute_result"
    }
   ],
   "source": [
    "accuracy_score(y_train,y_rfc_pred)"
   ]
  },
  {
   "cell_type": "code",
   "execution_count": 110,
   "metadata": {},
   "outputs": [
    {
     "data": {
      "text/plain": [
       "array([[17166,   454],\n",
       "       [   90, 58978]])"
      ]
     },
     "execution_count": 110,
     "metadata": {},
     "output_type": "execute_result"
    }
   ],
   "source": [
    "confusion_matrix(y_train,y_rfc_pred)"
   ]
  },
  {
   "cell_type": "code",
   "execution_count": 111,
   "metadata": {
    "scrolled": true
   },
   "outputs": [
    {
     "data": {
      "text/plain": [
       "0.9983887578485765"
      ]
     },
     "execution_count": 111,
     "metadata": {},
     "output_type": "execute_result"
    }
   ],
   "source": [
    "sensitivity_rfc  = 60105/(60105+97)\n",
    "sensitivity_rfc"
   ]
  },
  {
   "cell_type": "code",
   "execution_count": 112,
   "metadata": {},
   "outputs": [
    {
     "data": {
      "text/plain": [
       "0.9735527809307605"
      ]
     },
     "execution_count": 112,
     "metadata": {},
     "output_type": "execute_result"
    }
   ],
   "source": [
    "specificity_rfc = 17154/(17154+466)\n",
    "specificity_rfc"
   ]
  },
  {
   "cell_type": "markdown",
   "metadata": {},
   "source": [
    "## Fine Tunning"
   ]
  },
  {
   "cell_type": "code",
   "execution_count": 113,
   "metadata": {},
   "outputs": [],
   "source": [
    "parameters_ft = [{'max_depth':[1,2,3,4,5,6,7,8,9,10,11]}]"
   ]
  },
  {
   "cell_type": "code",
   "execution_count": 114,
   "metadata": {},
   "outputs": [],
   "source": [
    "grid_ft = GridSearchCV(dtr_model,param_grid=parameters_ft,scoring='r2', cv=10)"
   ]
  },
  {
   "cell_type": "code",
   "execution_count": 115,
   "metadata": {},
   "outputs": [
    {
     "data": {
      "text/plain": [
       "GridSearchCV(cv=10, error_score='raise-deprecating',\n",
       "       estimator=DecisionTreeClassifier(class_weight=None, criterion='gini', max_depth=None,\n",
       "            max_features=None, max_leaf_nodes=None,\n",
       "            min_impurity_decrease=0.0, min_impurity_split=None,\n",
       "            min_samples_leaf=1, min_samples_split=2,\n",
       "            min_weight_fraction_leaf=0.0, presort=False, random_state=None,\n",
       "            splitter='best'),\n",
       "       fit_params=None, iid='warn', n_jobs=None,\n",
       "       param_grid=[{'max_depth': [1, 2, 3, 4, 5, 6, 7, 8, 9, 10, 11]}],\n",
       "       pre_dispatch='2*n_jobs', refit=True, return_train_score='warn',\n",
       "       scoring='r2', verbose=0)"
      ]
     },
     "execution_count": 115,
     "metadata": {},
     "output_type": "execute_result"
    }
   ],
   "source": [
    "grid_ft.fit(X_train,y_train)"
   ]
  },
  {
   "cell_type": "code",
   "execution_count": 116,
   "metadata": {},
   "outputs": [
    {
     "data": {
      "text/plain": [
       "{'max_depth': 4}"
      ]
     },
     "execution_count": 116,
     "metadata": {},
     "output_type": "execute_result"
    }
   ],
   "source": [
    "grid_ft.best_params_"
   ]
  },
  {
   "cell_type": "code",
   "execution_count": 117,
   "metadata": {},
   "outputs": [],
   "source": [
    "y_pred_ft = grid_ft.predict(X_train)"
   ]
  },
  {
   "cell_type": "code",
   "execution_count": 118,
   "metadata": {},
   "outputs": [
    {
     "data": {
      "text/plain": [
       "array([[ 4284, 13336],\n",
       "       [  328, 58740]])"
      ]
     },
     "execution_count": 118,
     "metadata": {},
     "output_type": "execute_result"
    }
   ],
   "source": [
    "confusion_matrix(y_train,y_pred_ft)"
   ]
  },
  {
   "cell_type": "code",
   "execution_count": 119,
   "metadata": {},
   "outputs": [
    {
     "data": {
      "text/plain": [
       "0.9945516760240524"
      ]
     },
     "execution_count": 119,
     "metadata": {},
     "output_type": "execute_result"
    }
   ],
   "source": [
    "sensitivity_ft = 59874/(59874+328)\n",
    "sensitivity_ft"
   ]
  },
  {
   "cell_type": "code",
   "execution_count": 120,
   "metadata": {},
   "outputs": [
    {
     "data": {
      "text/plain": [
       "0.2431328036322361"
      ]
     },
     "execution_count": 120,
     "metadata": {},
     "output_type": "execute_result"
    }
   ],
   "source": [
    "specificity_ft = 4284/(13336+4284)\n",
    "specificity_ft"
   ]
  },
  {
   "cell_type": "code",
   "execution_count": 126,
   "metadata": {},
   "outputs": [],
   "source": [
    "lst_sens = [sensitivity_cv,sensitivity_ft,sensitivity_lr,sensitivity_rfc,sensitivity_tree]\n",
    "lst_spec = [specificit_cv,specificity_ft,specificit_lr,specificity_rfc,specificit_tree]"
   ]
  },
  {
   "cell_type": "code",
   "execution_count": 128,
   "metadata": {},
   "outputs": [],
   "source": [
    "import matplotlib.pyplot as plt"
   ]
  },
  {
   "cell_type": "code",
   "execution_count": 133,
   "metadata": {},
   "outputs": [
    {
     "data": {
      "text/plain": [
       "(1.0,\n",
       " [0.9945516760240524,\n",
       "  0.9945516760240524,\n",
       "  0.9473107205740673,\n",
       "  0.9983887578485765,\n",
       "  1.0])"
      ]
     },
     "execution_count": 133,
     "metadata": {},
     "output_type": "execute_result"
    }
   ],
   "source": [
    "max(lst_sens), lst_sens"
   ]
  },
  {
   "cell_type": "code",
   "execution_count": 134,
   "metadata": {},
   "outputs": [
    {
     "data": {
      "text/plain": [
       "(1.0,\n",
       " [0.2431328036322361,\n",
       "  0.2431328036322361,\n",
       "  0.25624290578887626,\n",
       "  0.9735527809307605,\n",
       "  1.0])"
      ]
     },
     "execution_count": 134,
     "metadata": {},
     "output_type": "execute_result"
    }
   ],
   "source": [
    "max(lst_spec), lst_spec"
   ]
  },
  {
   "cell_type": "markdown",
   "metadata": {},
   "source": [
    "## Prediction on Test Data "
   ]
  },
  {
   "cell_type": "code",
   "execution_count": 142,
   "metadata": {},
   "outputs": [
    {
     "data": {
      "text/plain": [
       "array([[<matplotlib.axes._subplots.AxesSubplot object at 0x7f9ab07b3eb8>,\n",
       "        <matplotlib.axes._subplots.AxesSubplot object at 0x7f9ab0755390>,\n",
       "        <matplotlib.axes._subplots.AxesSubplot object at 0x7f9ab0710908>,\n",
       "        <matplotlib.axes._subplots.AxesSubplot object at 0x7f9ab0737e80>,\n",
       "        <matplotlib.axes._subplots.AxesSubplot object at 0x7f9ab06ea438>,\n",
       "        <matplotlib.axes._subplots.AxesSubplot object at 0x7f9ab06909b0>],\n",
       "       [<matplotlib.axes._subplots.AxesSubplot object at 0x7f9ab06b8f28>,\n",
       "        <matplotlib.axes._subplots.AxesSubplot object at 0x7f9ab0669518>,\n",
       "        <matplotlib.axes._subplots.AxesSubplot object at 0x7f9ab0669550>,\n",
       "        <matplotlib.axes._subplots.AxesSubplot object at 0x7f9a8d7f5f98>,\n",
       "        <matplotlib.axes._subplots.AxesSubplot object at 0x7f9a8d7a5550>,\n",
       "        <matplotlib.axes._subplots.AxesSubplot object at 0x7f9a8d74eac8>],\n",
       "       [<matplotlib.axes._subplots.AxesSubplot object at 0x7f9a8d77f080>,\n",
       "        <matplotlib.axes._subplots.AxesSubplot object at 0x7f9a8d7275f8>,\n",
       "        <matplotlib.axes._subplots.AxesSubplot object at 0x7f9a8d6d0b70>,\n",
       "        <matplotlib.axes._subplots.AxesSubplot object at 0x7f9a8d6dbdd8>,\n",
       "        <matplotlib.axes._subplots.AxesSubplot object at 0x7f9a8d685390>,\n",
       "        <matplotlib.axes._subplots.AxesSubplot object at 0x7f9a8d6ad908>],\n",
       "       [<matplotlib.axes._subplots.AxesSubplot object at 0x7f9a8d657e80>,\n",
       "        <matplotlib.axes._subplots.AxesSubplot object at 0x7f9a8d3c7438>,\n",
       "        <matplotlib.axes._subplots.AxesSubplot object at 0x7f9a8d3f09b0>,\n",
       "        <matplotlib.axes._subplots.AxesSubplot object at 0x7f9a8d397f28>,\n",
       "        <matplotlib.axes._subplots.AxesSubplot object at 0x7f9a8d34a4e0>,\n",
       "        <matplotlib.axes._subplots.AxesSubplot object at 0x7f9a8d370a58>],\n",
       "       [<matplotlib.axes._subplots.AxesSubplot object at 0x7f9a8d319fd0>,\n",
       "        <matplotlib.axes._subplots.AxesSubplot object at 0x7f9a8cfc9588>,\n",
       "        <matplotlib.axes._subplots.AxesSubplot object at 0x7f9a8cff0b00>,\n",
       "        <matplotlib.axes._subplots.AxesSubplot object at 0x7f9a8cfa40b8>,\n",
       "        <matplotlib.axes._subplots.AxesSubplot object at 0x7f9a8cf4b630>,\n",
       "        <matplotlib.axes._subplots.AxesSubplot object at 0x7f9a8cf72ba8>],\n",
       "       [<matplotlib.axes._subplots.AxesSubplot object at 0x7f9a8cf26160>,\n",
       "        <matplotlib.axes._subplots.AxesSubplot object at 0x7f9a8cecc6d8>,\n",
       "        <matplotlib.axes._subplots.AxesSubplot object at 0x7f9a8cef3c50>,\n",
       "        <matplotlib.axes._subplots.AxesSubplot object at 0x7f9a8ce66208>,\n",
       "        <matplotlib.axes._subplots.AxesSubplot object at 0x7f9a8cbcb780>,\n",
       "        <matplotlib.axes._subplots.AxesSubplot object at 0x7f9a8cbf4cf8>],\n",
       "       [<matplotlib.axes._subplots.AxesSubplot object at 0x7f9a8cba42b0>,\n",
       "        <matplotlib.axes._subplots.AxesSubplot object at 0x7f9a8cb4e828>,\n",
       "        <matplotlib.axes._subplots.AxesSubplot object at 0x7f9a8cb77da0>,\n",
       "        <matplotlib.axes._subplots.AxesSubplot object at 0x7f9a8cb26358>,\n",
       "        <matplotlib.axes._subplots.AxesSubplot object at 0x7f9a8cacf8d0>,\n",
       "        <matplotlib.axes._subplots.AxesSubplot object at 0x7f9a8caf8e48>]],\n",
       "      dtype=object)"
      ]
     },
     "execution_count": 142,
     "metadata": {},
     "output_type": "execute_result"
    },
    {
     "data": {
      "image/png": "[encoded data removed]",
      "text/plain": [
       "<Figure size 1080x1080 with 42 Axes>"
      ]
     },
     "metadata": {
      "needs_background": "light"
     },
     "output_type": "display_data"
    }
   ],
   "source": [
    "X_test.hist(bins=50,figsize=(15,15))"
   ]
  },
  {
   "cell_type": "code",
   "execution_count": 135,
   "metadata": {},
   "outputs": [],
   "source": [
    "y_test_pred = rfc.predict(X_test)"
   ]
  },
  {
   "cell_type": "code",
   "execution_count": 136,
   "metadata": {},
   "outputs": [
    {
     "data": {
      "text/plain": [
       "array([[ 4399,  3152],\n",
       "       [ 5989, 13132]])"
      ]
     },
     "execution_count": 136,
     "metadata": {},
     "output_type": "execute_result"
    }
   ],
   "source": [
    "confusion_matrix(y_test,y_test_pred)"
   ]
  },
  {
   "cell_type": "code",
   "execution_count": 139,
   "metadata": {},
   "outputs": [
    {
     "data": {
      "text/plain": [
       "0.6867841640081586"
      ]
     },
     "execution_count": 139,
     "metadata": {},
     "output_type": "execute_result"
    }
   ],
   "source": [
    "Sensitivity_test = 13132/(13132+5989)\n",
    "Sensitivity_test"
   ]
  },
  {
   "cell_type": "code",
   "execution_count": 140,
   "metadata": {},
   "outputs": [
    {
     "data": {
      "text/plain": [
       "0.5825718447887697"
      ]
     },
     "execution_count": 140,
     "metadata": {},
     "output_type": "execute_result"
    }
   ],
   "source": [
    "specificity_test = 4399/(3152+4399)\n",
    "specificity_test"
   ]
  },
  {
   "cell_type": "code",
   "execution_count": 141,
   "metadata": {},
   "outputs": [
    {
     "data": {
      "text/plain": [
       "0.6572810437912417"
      ]
     },
     "execution_count": 141,
     "metadata": {},
     "output_type": "execute_result"
    }
   ],
   "source": [
    "(13132+4399)/(13132+4399+3152+5989)"
   ]
  }
 ],
 "metadata": {
  "kernelspec": {
   "display_name": "Python 3",
   "language": "python",
   "name": "python3"
  },
  "language_info": {
   "codemirror_mode": {
    "name": "ipython",
    "version": 3
   },
   "file_extension": ".py",
   "mimetype": "text/x-python",
   "name": "python",
   "nbconvert_exporter": "python",
   "pygments_lexer": "ipython3",
   "version": "3.8.5"
  }
 },
 "nbformat": 4,
 "nbformat_minor": 2
}
